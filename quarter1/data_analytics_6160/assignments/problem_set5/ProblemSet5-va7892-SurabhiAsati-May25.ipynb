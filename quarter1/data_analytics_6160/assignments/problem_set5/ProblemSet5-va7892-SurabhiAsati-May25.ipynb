{
 "cells": [
  {
   "cell_type": "code",
   "execution_count": 43,
   "metadata": {
    "collapsed": true
   },
   "outputs": [],
   "source": [
    "from scipy.stats import norm, t, chi2,f"
   ]
  },
  {
   "cell_type": "code",
   "execution_count": 44,
   "metadata": {
    "collapsed": true
   },
   "outputs": [],
   "source": [
    "# 1.\tProblem 17 of Chapter 10, 13th edition, page 459 "
   ]
  },
  {
   "cell_type": "code",
   "execution_count": 45,
   "metadata": {
    "collapsed": false
   },
   "outputs": [
    {
     "name": "stdout",
     "output_type": "stream",
     "text": [
      "\n",
      "Point Estimate:  0.5700000000000003 \n",
      "Standard Error:  0.28609439001839937 \n",
      "Degree of Freedom:  17.0\n",
      "test Statistic:  1.9923494478984447 \n",
      "P-value:  0.0313212999587\n"
     ]
    }
   ],
   "source": [
    "# Hypothesis Test\n",
    "\n",
    "# Ho: mu1 -mu2 <= 0\n",
    "# Ha: mu1 -mu2 >  0\n",
    "\n",
    "# mu1 : Population mean service rating of Consultant A with 10 years of experience\n",
    "# mu2 : Population mean service rating of Consultant B with 1 year of experience\n",
    "\n",
    "# Calculate degrees of freedom\n",
    "def df_two_means(s1,s2,n1,n2):\n",
    "    numerator = (s1*s1/n1 + s2*s2/n2)**2\n",
    "    denominator = ((s1*s1/n1)**2) * (1/(n1 - 1)) + ((s2*s2/n2)**2) * (1/(n2 - 1))\n",
    "    degreef = numerator/denominator\n",
    "    return degreef\n",
    "\n",
    "x1 = 6.82;x2 = 6.25;s1 = .64;s2 = .75;n1 = 16;n2 = 10;alpha = 0.05; d0 = 0\n",
    "pe = x1 - x2\n",
    "\n",
    "# Calculate degree of freedom\n",
    "degree = df_two_means(.64,.75,16,10)\n",
    "\n",
    "# Rounding non-integer df down to get a larger t-value\n",
    "df = round(degree,0)\n",
    "\n",
    "# Calculate Standard error\n",
    "se = pow(s1*s1/n1 + s2*s2/n2, 0.5)\n",
    "\n",
    "# Calculate test static - t\n",
    "test_statistic = (pe - d0) / se\n",
    "p_value = 1 - t.cdf(test_statistic, df)\n",
    "\n",
    "print('\\nPoint Estimate: ',pe,'\\nStandard Error: ',se, '\\nDegree of Freedom: ',df)\n",
    "print('test Statistic: ',test_statistic,'\\nP-value: ',p_value)"
   ]
  },
  {
   "cell_type": "code",
   "execution_count": 46,
   "metadata": {
    "collapsed": true
   },
   "outputs": [],
   "source": [
    "# Conclusion: Thus, with P-value=0.03 less than Alpha=0.05. Reject Ho\n",
    "# Therefore Alternative hypothesis is ture i.e. Consultant A with more experience has \n",
    "# the higher Population mean service rating than Consultant B "
   ]
  },
  {
   "cell_type": "code",
   "execution_count": null,
   "metadata": {
    "collapsed": false
   },
   "outputs": [],
   "source": [
    "2.\tProblem 31 of Chapter 10, 13th edition, page 470 (add question d: at 1% significance level, test the hypothesis \n",
    "whether proportion of women trusting Pinterest recommendations is more than that of men.)\n"
   ]
  },
  {
   "cell_type": "code",
   "execution_count": 47,
   "metadata": {
    "collapsed": false
   },
   "outputs": [
    {
     "name": "stdout",
     "output_type": "stream",
     "text": [
      "p1 =  0.78  \n",
      "p2 =  0.6\n",
      "proportion point estimate:  0.18000000000000005 \n",
      "proportion standard error:  0.05055457156264261\n",
      "proportion z critical:  1.95996398454 \n",
      "proportion Margin of error : 0.0990851395166\n",
      "proportion Margin Lowerbound:  0.0809148604834 \n",
      "proportion Margin Upperbound:  0.279085139517\n"
     ]
    }
   ],
   "source": [
    "# Let's take n1 = sample data of women and n2 = sample data of men\n",
    "pro_n1 = 150; pro_n2 = 170; success1 = 117; success2 = 102; pro_alpha = 0.05\n",
    "\n",
    "# p1: point estimate proportion of women who trust recommendations made on pinterest\n",
    "# p2: point estimate proportion of men who trust recommendations made on pinterest\n",
    "p1 = success1/pro_n1\n",
    "p2 = success2/pro_n2\n",
    "\n",
    "pro_pe = p1-p2\n",
    "pro_se = ((p1*(1-p1))/pro_n1 + (p2*(1-p2))/pro_n2)**0.5\n",
    "pro_z_critical = norm.ppf(1-alpha/2)\n",
    "pro_moe = pro_z_critical * pro_se\n",
    "pro_ie_upper = pro_pe + pro_moe\n",
    "pro_ie_lower = pro_pe - pro_moe\n",
    "\n",
    "print('p1 = ',p1,' \\np2 = ',p2)\n",
    "print('proportion point estimate: ',pro_pe,'\\nproportion standard error: ',pro_se)\n",
    "print('proportion z critical: ',pro_z_critical,'\\nproportion Margin of error :',pro_moe)\n",
    "print('proportion Margin Lowerbound: ',pro_ie_lower,'\\nproportion Margin Upperbound: ',pro_ie_upper)"
   ]
  },
  {
   "cell_type": "code",
   "execution_count": 48,
   "metadata": {
    "collapsed": true
   },
   "outputs": [],
   "source": [
    "# Conclusion: we are 95% confident that the diff between men and women who trust recommendations \n",
    "# made on pinterest is between 8% and 28% "
   ]
  },
  {
   "cell_type": "code",
   "execution_count": 49,
   "metadata": {
    "collapsed": false
   },
   "outputs": [
    {
     "name": "stdout",
     "output_type": "stream",
     "text": [
      "proportion test statistic:  3.560508860745867\n",
      "Reject Ho\n"
     ]
    }
   ],
   "source": [
    "# Hypothesis Test\n",
    "\n",
    "# Ho: p1 -p2 <= 0\n",
    "# Ha: p1 -p2 >  0\n",
    "\n",
    "# p1 : Population mean proportion of women who trust recommendations made on pinterest\n",
    "# p2 : Population mean proportion of men who trust recommendations made on pinterest\n",
    "# Given:\n",
    "\n",
    "pro_n1 = 150; pro_n2 = 170; success1 = 117; success2 = 102; pro_alpha = 0.01\n",
    "\n",
    "pro_test_statistic_z = pro_pe / pro_se \n",
    "print('proportion test statistic: ',pro_test_statistic_z)\n",
    "\n",
    "# For upper tail test\n",
    "if pro_test_statistic_z >= pro_z_critical:\n",
    "    print('Reject Ho')\n",
    "else:\n",
    "    print('Accept Ho')"
   ]
  },
  {
   "cell_type": "code",
   "execution_count": 50,
   "metadata": {
    "collapsed": true
   },
   "outputs": [],
   "source": [
    "# Conclusion: Thus, with proportion test statistic = 3.560508860745867 greater than \n",
    "# proportion z critical = 1.95996398454, Reject Ho\n",
    "# Therefore, Alternative hypothesis is ture i.e. Population mean proportion of women who trust recommendations \n",
    "# made on pinterest is more than Population mean proportion of men who trust recommendations made on pinterest"
   ]
  },
  {
   "cell_type": "code",
   "execution_count": null,
   "metadata": {
    "collapsed": false
   },
   "outputs": [],
   "source": [
    "\n",
    "3.\tProblem 7 of Chapter 11, 13th edition, page 493"
   ]
  },
  {
   "cell_type": "code",
   "execution_count": 51,
   "metadata": {
    "collapsed": false
   },
   "outputs": [
    {
     "name": "stdout",
     "output_type": "stream",
     "text": [
      "sample mean =  3.1999999999999997 \n",
      "sample variance =  253.37142857142857 \n",
      "sample standard deviation =  15.917645195550394\n",
      "\n",
      "Variance:\n",
      "Interval estimate:\n",
      "Lower bound:  110.761638002 \n",
      "Upper Bound:  1049.54869896\n",
      "\n",
      "Standard deviation:\n",
      "Interval estimate:\n",
      "Lower bound:  10.5243355136 \n",
      "Upper Bound:  32.3967390174\n"
     ]
    }
   ],
   "source": [
    "n=8\n",
    "x = [20, -20.5, 12.2, 12.6, 10.5, -5.8, -18.7, 15.3]\n",
    "sum = 0\n",
    "for i in x:\n",
    "    sum += i\n",
    "x_avg = sum/n\n",
    "\n",
    "numerator = 0\n",
    "for i in x:\n",
    "    k = (i - x_avg)\n",
    "    numerator += k**2\n",
    "    \n",
    "sample_var = numerator/(n-1)\n",
    "sample_std = sample_var**.5\n",
    "print('sample mean = ',x_avg,'\\nsample variance = ',sample_var,'\\nsample standard deviation = ',sample_std)\n",
    "\n",
    "# Construct 95% confidence interval for population variance\n",
    "alpha = 0.05\n",
    "\n",
    "ie_lower_bound = ((n-1)* sample_var) / chi2.ppf(1-alpha/2, n-1)\n",
    "ie_upper_bound = ((n-1)* sample_var) / chi2.ppf(alpha/2, n-1)\n",
    "\n",
    "print('\\nVariance:\\nInterval estimate:\\nLower bound: ', ie_lower_bound,'\\nUpper Bound: ',ie_upper_bound)\n",
    "\n",
    "# Calculate 95% Interval estimate of population standard deviation\n",
    "sd_lower = ie_lower_bound**.5\n",
    "sd_upper = ie_upper_bound**.5\n",
    "\n",
    "print('\\nStandard deviation:\\nInterval estimate:\\nLower bound: ', sd_lower,'\\nUpper Bound: ',sd_upper)"
   ]
  },
  {
   "cell_type": "code",
   "execution_count": null,
   "metadata": {
    "collapsed": true
   },
   "outputs": [],
   "source": [
    "4.\tProblem 19 of Chapter 11, 13th edition, page 501\n"
   ]
  },
  {
   "cell_type": "code",
   "execution_count": 59,
   "metadata": {
    "collapsed": false
   },
   "outputs": [
    {
     "name": "stdout",
     "output_type": "stream",
     "text": [
      "sample 1 mean (x1)=  3.3284000000000002 \n",
      "sample 1 variance =  0.04888899999999998\n",
      "sample 2 mean (x2)=  3.278181818181818 \n",
      "sample 2 variance =  0.005901298701298697\n",
      "Test statistic =  8.284447623239439 \n",
      "P-value =  0.99999638921\n",
      "Critical F =  2.36\n"
     ]
    }
   ],
   "source": [
    "n1 = 25; n2 = 22; alpha = .05\n",
    "x1 = [2.95, 3.45, 3.50, 3.75, 3.48, 3.26, 3.33, 3.20, 3.16, 3.20, 3.22, 3.38, 3.90, 3.36, 3.25, 3.28, 3.20, 3.22, 2.98, 3.45, 3.70, 3.34, 3.18, 3.35, 3.12]\n",
    "x2 = [3.22, 3.30, 3.34, 3.28, 3.29, 3.25, 3.30, 3.27, 3.38, 3.34, 3.35, 3.19, 3.35, 3.05, 3.36, 3.28, 3.30, 3.28, 3.30, 3.20, 3.16, 3.33]\n",
    "sum = 0\n",
    "for i in x1:\n",
    "    sum += i\n",
    "x1_mean = sum/n1\n",
    "\n",
    "numerator1 = 0\n",
    "for j in x1:\n",
    "    k = (j - x1_mean)\n",
    "    numerator1 += k**2\n",
    "    \n",
    "sample1_var = numerator1/(n1-1)\n",
    "\n",
    "print('sample 1 mean (x1)= ',x1_mean,'\\nsample 1 variance = ',sample1_var)\n",
    "\n",
    "numerator2 = 0\n",
    "addition = 0\n",
    "for i in x2:\n",
    "    addition += i\n",
    "x2_mean = addition/n2\n",
    "\n",
    "numerator2 = 0\n",
    "for j in x2:\n",
    "    k = (j - x2_mean)\n",
    "    numerator2 += k**2\n",
    "    \n",
    "sample2_var = numerator2/(n2-1)\n",
    "\n",
    "print('sample 2 mean (x2)= ',x2_mean,'\\nsample 2 variance = ',sample2_var)\n",
    "\n",
    "# Hypothesis Test\n",
    "\n",
    "# Ho: sigmaone2/sigmatwo2 = 1\n",
    "# Ha: sigmaone2/sigmatwo2 != 1\n",
    "\n",
    "F = sample1_var/sample2_var\n",
    "p_value = f.cdf(F,n1-1,n2-1)\n",
    "\n",
    "print('Test statistic = ',F,'\\nP-value = ', p_value)\n",
    "\n",
    "# Calculating F value from the F distribution table\n",
    "Critical_F = 2.36 \n",
    "\n",
    "print('Critical F = ',Critical_F)"
   ]
  },
  {
   "cell_type": "code",
   "execution_count": 53,
   "metadata": {
    "collapsed": true
   },
   "outputs": [],
   "source": [
    "# Conclusion: With test statistic = 8.284447623239439 > Critical F =  2.36, we Reject Ho. \n",
    "# Therefore, there is significant difference between the variances in the bag weights for two machine. \n",
    "# Since statistically,  the sample population variance of machine 1 is greater, machines 1 will provide \n",
    "# better opportunity for quality improvements."
   ]
  },
  {
   "cell_type": "code",
   "execution_count": null,
   "metadata": {
    "collapsed": true
   },
   "outputs": [],
   "source": []
  }
 ],
 "metadata": {
  "kernelspec": {
   "display_name": "Python 3",
   "language": "python",
   "name": "python3"
  },
  "language_info": {
   "codemirror_mode": {
    "name": "ipython",
    "version": 3
   },
   "file_extension": ".py",
   "mimetype": "text/x-python",
   "name": "python",
   "nbconvert_exporter": "python",
   "pygments_lexer": "ipython3",
   "version": "3.6.0"
  }
 },
 "nbformat": 4,
 "nbformat_minor": 2
}
