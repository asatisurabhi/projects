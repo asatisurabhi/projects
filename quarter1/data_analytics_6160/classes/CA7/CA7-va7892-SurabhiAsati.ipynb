{
 "cells": [
  {
   "cell_type": "code",
   "execution_count": 4,
   "metadata": {
    "collapsed": true
   },
   "outputs": [],
   "source": [
    "from scipy.stats import chi2, f\n",
    "import numpy as np"
   ]
  },
  {
   "cell_type": "code",
   "execution_count": 2,
   "metadata": {
    "collapsed": false
   },
   "outputs": [
    {
     "name": "stdout",
     "output_type": "stream",
     "text": [
      "chi_square1:  7.118055555555557\n",
      "df1:          3\n",
      "pvalue1:      0.0682286310483\n",
      "crit val:  7.81472790325\n"
     ]
    }
   ],
   "source": [
    "# 1. Question 11(a) page 524\n",
    "\n",
    "# Ho: Ticket purchased is independent of flight type\n",
    "# Ha: Ticket purchased is not independent of flight type\n",
    "\n",
    "\n",
    "\n",
    "observed1 = [35,70,85,50,65,80,115,100]\n",
    "expected1 = [40,60,80,60,60,90,120,90]\n",
    "\n",
    "chisquare1 = sum([(x-y)**2/y for x,y in zip(observed1,expected1)])\n",
    "print('chi_square1: ',chisquare1)\n",
    "\n",
    "df1 = (4-1)*(2-1)\n",
    "print('df1:         ',df1)\n",
    "\n",
    "pvalue1 = 1-chi2.cdf(chisquare1, df1)\n",
    "print('pvalue1:     ',pvalue1)\n",
    "\n",
    "crit = chi2.ppf(1-0.05, df1) #added\n",
    "print('crit val: ', crit)"
   ]
  },
  {
   "cell_type": "code",
   "execution_count": 16,
   "metadata": {
    "collapsed": true
   },
   "outputs": [],
   "source": [
    "# Conclusion: As p-value < .05; Reject Ho. Therefore, ticket purchased is not independent of the flight type\n",
    "#also chisq>crit so reject h0"
   ]
  },
  {
   "cell_type": "code",
   "execution_count": 17,
   "metadata": {
    "collapsed": true
   },
   "outputs": [],
   "source": [
    "# Question 11(b) page 524 - Discuss any dependence that exists between type of ticket and type of flight"
   ]
  },
  {
   "cell_type": "code",
   "execution_count": 18,
   "metadata": {
    "collapsed": true
   },
   "outputs": [],
   "source": [
    "# percentage of observed data in each column\n",
    "observed1_percentage = [4.5,7.9,14.8,43.5,80.7,48.6]\n",
    "\n",
    "# Conclusion: In international flights, a higher percentage of first-class and business-class tickets is purchased"
   ]
  },
  {
   "cell_type": "code",
   "execution_count": 3,
   "metadata": {
    "collapsed": false
   },
   "outputs": [
    {
     "name": "stdout",
     "output_type": "stream",
     "text": [
      "chi_square1:  11.226610644257704\n",
      "df1:  4\n",
      "pvalue1:  0.0241318738838\n",
      "crit val:  9.48772903678\n"
     ]
    }
   ],
   "source": [
    "# 2. Question 23(a) page 535\n",
    "\n",
    "# Ho: Largest companies differ from thousand companies in performance in shareholder scoreboard\n",
    "# Ha: Largest companies donot differ from thousand companies in performance in shareholder scoreboard\n",
    "\n",
    "observed1 = [108,92,64,84,52]\n",
    "expected1 = [96,84,80,72,68]\n",
    "\n",
    "\n",
    "chisquare1 = sum([(x-y)**2/y for x,y in zip(observed1,expected1)])\n",
    "print('chi_square1: ',chisquare1)\n",
    "\n",
    "df1 = (5-1)\n",
    "print('df1: ',df1)\n",
    "\n",
    "pvalue1 = 1-chi2.cdf(chisquare1, df1)\n",
    "print('pvalue1: ',pvalue1)\n",
    "\n",
    "crit = chi2.ppf(1-0.05, df1) #added\n",
    "print('crit val: ', crit)"
   ]
  },
  {
   "cell_type": "code",
   "execution_count": 20,
   "metadata": {
    "collapsed": true
   },
   "outputs": [],
   "source": [
    "# Conclusion: As p-value < .05; Reject Ho. \n",
    "# Therefore, Largest companies donot differ from thousand companies in performance in shareholder scoreboard"
   ]
  },
  {
   "cell_type": "code",
   "execution_count": 152,
   "metadata": {
    "collapsed": true
   },
   "outputs": [],
   "source": [
    "# 3. Question 9 page 561"
   ]
  },
  {
   "cell_type": "code",
   "execution_count": 153,
   "metadata": {
    "collapsed": true
   },
   "outputs": [],
   "source": [
    "# Hypothesis test:\n",
    "\n",
    "# Ho: Temperature level has no effect on mean yield of the process\n",
    "# Ha: Temperature level has an effect on mean yield of the process\n",
    "\n"
   ]
  },
  {
   "cell_type": "code",
   "execution_count": 5,
   "metadata": {
    "collapsed": false
   },
   "outputs": [
    {
     "data": {
      "text/plain": [
       "array([[44, 42, 74, 42, 53, 50, 45, 48, 64, 60],\n",
       "       [55, 78, 80, 86, 60, 59, 62, 52, 55, 62],\n",
       "       [54, 65, 79, 69, 79, 64, 59, 78, 84, 38],\n",
       "       [44, 73, 71, 60, 64, 66, 41, 55, 76, 50]])"
      ]
     },
     "execution_count": 5,
     "metadata": {},
     "output_type": "execute_result"
    }
   ],
   "source": [
    "data = np.array([[44,42,74,42,53,50,45,48,64,60],[55,78,80,86,60,59,62,52,55,62],[54,65,79,69,79,64,59,78,84,38],[44,73,71,60,64,66,41,55,76,50]])\n",
    "data"
   ]
  },
  {
   "cell_type": "code",
   "execution_count": 6,
   "metadata": {
    "collapsed": false
   },
   "outputs": [
    {
     "data": {
      "text/plain": [
       "[10, 10, 10, 10]"
      ]
     },
     "execution_count": 6,
     "metadata": {},
     "output_type": "execute_result"
    }
   ],
   "source": [
    "sample_size = [len(x) for x in data]\n",
    "sample_size"
   ]
  },
  {
   "cell_type": "code",
   "execution_count": 7,
   "metadata": {
    "collapsed": false
   },
   "outputs": [
    {
     "name": "stdout",
     "output_type": "stream",
     "text": [
      "40 4\n"
     ]
    }
   ],
   "source": [
    "n = sum(sample_size)\n",
    "k = len(sample_size)\n",
    "print (n,k)"
   ]
  },
  {
   "cell_type": "code",
   "execution_count": 8,
   "metadata": {
    "collapsed": false
   },
   "outputs": [
    {
     "name": "stdout",
     "output_type": "stream",
     "text": [
      "61.0\n"
     ]
    }
   ],
   "source": [
    "grand_mean = data.mean()\n",
    "print (grand_mean)"
   ]
  },
  {
   "cell_type": "code",
   "execution_count": 9,
   "metadata": {
    "collapsed": false
   },
   "outputs": [
    {
     "name": "stdout",
     "output_type": "stream",
     "text": [
      "[ 52.2  64.9  66.9  60. ]\n"
     ]
    }
   ],
   "source": [
    "sample_mean = data.mean(axis = 1)\n",
    "print(sample_mean)"
   ]
  },
  {
   "cell_type": "code",
   "execution_count": 10,
   "metadata": {
    "collapsed": false
   },
   "outputs": [
    {
     "name": "stdout",
     "output_type": "stream",
     "text": [
      "[ 10.67499675  11.93919781  14.09846327  12.20200348]\n"
     ]
    }
   ],
   "source": [
    "s = data.std(axis = 1,ddof = 1)\n",
    "print(s)"
   ]
  },
  {
   "cell_type": "code",
   "execution_count": 11,
   "metadata": {
    "collapsed": false
   },
   "outputs": [
    {
     "data": {
      "text/plain": [
       "<zip at 0x113decac8>"
      ]
     },
     "execution_count": 11,
     "metadata": {},
     "output_type": "execute_result"
    }
   ],
   "source": [
    "zip(sample_size, sample_mean)\n"
   ]
  },
  {
   "cell_type": "code",
   "execution_count": 12,
   "metadata": {
    "collapsed": false
   },
   "outputs": [
    {
     "name": "stdout",
     "output_type": "stream",
     "text": [
      "1284.6 428.2\n"
     ]
    }
   ],
   "source": [
    "SSTR = sum([x*(y-grand_mean)**2 for x,y in zip(sample_size, sample_mean)])\n",
    "df_tr = k-1\n",
    "MSTR = SSTR/df_tr\n",
    "print(SSTR, MSTR)"
   ]
  },
  {
   "cell_type": "code",
   "execution_count": 13,
   "metadata": {
    "collapsed": false
   },
   "outputs": [
    {
     "name": "stdout",
     "output_type": "stream",
     "text": [
      "5437.4 151.038888889\n"
     ]
    }
   ],
   "source": [
    "SSE = sum([(x-1)*(y**2) for x,y in zip(sample_size, s)])\n",
    "df_e = n-k\n",
    "MSE = SSE/df_e\n",
    "print(SSE, MSE)"
   ]
  },
  {
   "cell_type": "code",
   "execution_count": 14,
   "metadata": {
    "collapsed": false
   },
   "outputs": [
    {
     "name": "stdout",
     "output_type": "stream",
     "text": [
      "6722.0 6722.0\n"
     ]
    }
   ],
   "source": [
    "SST = (n-1)*data.std(ddof=1)**2\n",
    "df_t = n-1\n",
    "print(SST, SSTR+SSE)"
   ]
  },
  {
   "cell_type": "code",
   "execution_count": 15,
   "metadata": {
    "collapsed": false
   },
   "outputs": [
    {
     "name": "stdout",
     "output_type": "stream",
     "text": [
      "critcal value:  2.86626555094\n",
      "\n",
      "Treatment: 1284.6            3     428.2       2.83503144885    0.051748229475\n",
      "Error:     5437.4            36    151.038888889\n",
      "Total:     6722.0   39\n"
     ]
    }
   ],
   "source": [
    "# ANOVA, f-test\n",
    "f_stat = MSTR/MSE\n",
    "crit = f.ppf(.95, dfn = df_tr, dfd = df_e)\n",
    "p_value = 1 - f.cdf(f_stat, dfn = df_tr, dfd = df_e)\n",
    "print('critcal value: ',crit)\n",
    " \n",
    "print('\\nTreatment:',SSTR,'          ',df_tr,'   ',MSTR,'     ',f_stat,'  ',p_value)\n",
    "print('Error:  ',' ',SSE,'          ',df_e,'  ',MSE) \n",
    "print('Total:  ',' ',SST,' ',df_t)      fghghhuyiuiiullol8ll      g"
   ]
  },
  {
   "cell_type": "code",
   "execution_count": 165,
   "metadata": {
    "collapsed": true
   },
   "outputs": [],
   "source": [
    "# Conclusion: As p-value > .05; We do not Reject Ho. \n",
    "# Therefore, Temperature level doesnot have an effect on mean yield of the process"
   ]
  },
  {
   "cell_type": "code",
   "execution_count": 166,
   "metadata": {
    "collapsed": true
   },
   "outputs": [],
   "source": [
    "# 4.\tProblem 31 of Chapter 13, 13th edition, page 581\n"
   ]
  },
  {
   "cell_type": "code",
   "execution_count": 225,
   "metadata": {
    "collapsed": false
   },
   "outputs": [],
   "source": [
    "data = np.array([[[41,43],[52,44],[50,46]],\n",
    "                 [[49,51],[50,46],[48,44]]])\n",
    "\n",
    "grand_mean = data.mean()\n",
    "A_mean = data.mean(axis=(2,1))\n",
    "B_mean = data.mean(axis=(2,0))\n",
    "\n",
    "TR_mean = data.mean(axis=2)\n"
   ]
  },
  {
   "cell_type": "code",
   "execution_count": 226,
   "metadata": {
    "collapsed": false
   },
   "outputs": [
    {
     "data": {
      "text/plain": [
       "array([[ 42.,  48.,  48.],\n",
       "       [ 50.,  48.,  46.]])"
      ]
     },
     "execution_count": 226,
     "metadata": {},
     "output_type": "execute_result"
    }
   ],
   "source": [
    "data.mean(axis=2)"
   ]
  },
  {
   "cell_type": "code",
   "execution_count": 227,
   "metadata": {
    "collapsed": false
   },
   "outputs": [
    {
     "data": {
      "text/plain": [
       "array([ 46.,  48.])"
      ]
     },
     "execution_count": 227,
     "metadata": {},
     "output_type": "execute_result"
    }
   ],
   "source": [
    "data.mean(axis=(2, 1))"
   ]
  },
  {
   "cell_type": "code",
   "execution_count": 228,
   "metadata": {
    "collapsed": false
   },
   "outputs": [
    {
     "data": {
      "text/plain": [
       "array([ 46.,  48.,  47.])"
      ]
     },
     "execution_count": 228,
     "metadata": {},
     "output_type": "execute_result"
    }
   ],
   "source": [
    "data.mean(axis=(2, 0))"
   ]
  },
  {
   "cell_type": "code",
   "execution_count": 229,
   "metadata": {
    "collapsed": false
   },
   "outputs": [
    {
     "data": {
      "text/plain": [
       "array([41, 43, 52, 44, 50, 46, 49, 51, 50, 46, 48, 44])"
      ]
     },
     "execution_count": 229,
     "metadata": {},
     "output_type": "execute_result"
    }
   ],
   "source": [
    "SST = sum([(x-grand_mean)**2 for x in data.flatten()])\n",
    "\n",
    "data.flatten()"
   ]
  },
  {
   "cell_type": "code",
   "execution_count": 230,
   "metadata": {
    "collapsed": false
   },
   "outputs": [
    {
     "data": {
      "text/plain": [
       "(2, 3, 2)"
      ]
     },
     "execution_count": 230,
     "metadata": {},
     "output_type": "execute_result"
    }
   ],
   "source": [
    "# shape of the numpy array\n",
    "\n",
    "data.shape"
   ]
  },
  {
   "cell_type": "code",
   "execution_count": 231,
   "metadata": {
    "collapsed": true
   },
   "outputs": [],
   "source": [
    "a = data.shape[0]; b = data.shape[1]; r = data.shape[2]"
   ]
  },
  {
   "cell_type": "code",
   "execution_count": 232,
   "metadata": {
    "collapsed": false
   },
   "outputs": [],
   "source": [
    "SSA = b*r*sum([(x-grand_mean)**2 for x in A_mean])"
   ]
  },
  {
   "cell_type": "code",
   "execution_count": 233,
   "metadata": {
    "collapsed": true
   },
   "outputs": [],
   "source": [
    "SSB = a*r*sum([(x-grand_mean)**2 for x in B_mean])"
   ]
  },
  {
   "cell_type": "code",
   "execution_count": 234,
   "metadata": {
    "collapsed": true
   },
   "outputs": [],
   "source": [
    "# compute SSAB\n",
    "\n",
    "SSAB = 0\n",
    "for i in range(a):\n",
    "    for j in range(b):\n",
    "        SSAB += (TR_mean[i][j] - A_mean[i] - B_mean[j] + grand_mean)**2\n",
    "SSAB = r*SSAB"
   ]
  },
  {
   "cell_type": "code",
   "execution_count": 235,
   "metadata": {
    "collapsed": true
   },
   "outputs": [],
   "source": [
    "# Compute SSE\n",
    "\n",
    "SSE = SST - SSA - SSB - SSAB"
   ]
  },
  {
   "cell_type": "code",
   "execution_count": 236,
   "metadata": {
    "collapsed": false
   },
   "outputs": [],
   "source": [
    "# degrees of freedom\n",
    "\n",
    "dfa = data.shape[0] - 1\n",
    "dfb = data.shape[1] - 1\n",
    "dfab = dfa * dfb\n",
    "dfe = data.shape[0] * data.shape[1] * (data.shape[2] - 1)\n",
    "dft = data.shape[0] * data.shape[1] * data.shape[2] - 1"
   ]
  },
  {
   "cell_type": "code",
   "execution_count": 237,
   "metadata": {
    "collapsed": true
   },
   "outputs": [],
   "source": [
    "# Mean Squares\n",
    "\n",
    "MSA = SSA/dfa\n",
    "MSB = SSB/dfb\n",
    "MSAB = SSAB/dfab\n",
    "MSE = SSE/dfe"
   ]
  },
  {
   "cell_type": "code",
   "execution_count": 238,
   "metadata": {
    "collapsed": true
   },
   "outputs": [],
   "source": [
    "# F test statistics\n",
    "\n",
    "fa = MSA/MSE\n",
    "fb = MSB/MSE\n",
    "fab = MSAB/MSE"
   ]
  },
  {
   "cell_type": "code",
   "execution_count": 239,
   "metadata": {
    "collapsed": true
   },
   "outputs": [],
   "source": [
    "# P VALUES\n",
    "\n",
    "pa = 1 - f.cdf(fa, dfn = dfa, dfd = dfe)\n",
    "pb = 1 - f.cdf(fb, dfn = dfb, dfd = dfe)\n",
    "pab = 1 - f.cdf(fab, dfn = dfab, dfd = dfe)"
   ]
  },
  {
   "cell_type": "code",
   "execution_count": 248,
   "metadata": {
    "collapsed": false
   },
   "outputs": [
    {
     "name": "stdout",
     "output_type": "stream",
     "text": [
      "Factor A        12.0    1     12.0     1.2      0.315333596201\n",
      "Factor B        8.0     2     4.0      0.4      0.686952981885\n",
      "Interaction     56.0    2     28.0     2.8      0.138382057485\n",
      "Error           60.0    6     10.0\n",
      "Total           136.0   11\n"
     ]
    }
   ],
   "source": [
    "print('Factor A','      ', SSA,'  ',dfa,'   ',MSA,'   ',fa,'    ',pa)\n",
    "print('Factor B','      ', SSB,'   ',dfb,'   ',MSB,'    ',fb,'    ',pb)\n",
    "print('Interaction','   ', SSAB,'  ',dfab,'   ',MSAB,'   ',fab,'    ',pab)\n",
    "print('Error','         ', SSE,'  ',dfe,'   ',MSE)\n",
    "print('Total','         ', SST,' ',dft)"
   ]
  },
  {
   "cell_type": "code",
   "execution_count": null,
   "metadata": {
    "collapsed": true
   },
   "outputs": [],
   "source": [
    "# Conclusion:\n",
    "\n",
    "# With p-value for Factor-A  (0.315333596201) greater than .05, it is not significant\n",
    "# With p-value for Factor-B  (0.686952981885) greater than .05, it is not significant\n",
    "# With p-value for Interaction of A and B  ( 0.138382057485) greater than .05, \n",
    "# therefore, it is not significant for decreasing wait times\n",
    "\n",
    "#As method is not a significant factor; either of the methods; Loading and Unloading can be used"
   ]
  },
  {
   "cell_type": "code",
   "execution_count": 3,
   "metadata": {
    "collapsed": false
   },
   "outputs": [
    {
     "data": {
      "text/plain": [
       "5.9914645471079799"
      ]
     },
     "execution_count": 3,
     "metadata": {},
     "output_type": "execute_result"
    }
   ],
   "source": [
    "# just checking\n",
    "ch = chi2.ppf(1-.05,2)\n",
    "ch"
   ]
  },
  {
   "cell_type": "code",
   "execution_count": null,
   "metadata": {
    "collapsed": true
   },
   "outputs": [],
   "source": []
  }
 ],
 "metadata": {
  "kernelspec": {
   "display_name": "Python 3",
   "language": "python",
   "name": "python3"
  },
  "language_info": {
   "codemirror_mode": {
    "name": "ipython",
    "version": 3
   },
   "file_extension": ".py",
   "mimetype": "text/x-python",
   "name": "python",
   "nbconvert_exporter": "python",
   "pygments_lexer": "ipython3",
   "version": "3.6.0"
  }
 },
 "nbformat": 4,
 "nbformat_minor": 2
}
