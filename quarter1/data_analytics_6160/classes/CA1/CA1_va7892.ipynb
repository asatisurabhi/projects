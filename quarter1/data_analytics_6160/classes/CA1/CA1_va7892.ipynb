{
 "cells": [
  {
   "cell_type": "code",
   "execution_count": 1,
   "metadata": {
    "collapsed": true
   },
   "outputs": [],
   "source": [
    "# Function: Percentile\n",
    "import math \n",
    "\n",
    "def percentile(sequence, p):\n",
    "  sequence.sort()\n",
    "  try: \n",
    "    if p < 0 or p > 100:\n",
    "      raise Exception()\n",
    "  except:\n",
    "    print ('p should be between 0 to 100')\n",
    "  \n",
    "  i = (p/100)*len(sequence)\n",
    "  \n",
    "  f = math.floor(i)\n",
    "  c = math.ceil(i)\n",
    "  \n",
    "  if f == c: \n",
    "    return (sequence[f-1] + sequence[f])/2 \n",
    "  else: \n",
    "    return sequence[c-1]"
   ]
  },
  {
   "cell_type": "code",
   "execution_count": 2,
   "metadata": {
    "collapsed": false
   },
   "outputs": [
    {
     "name": "stdout",
     "output_type": "stream",
     "text": [
      "3730\n",
      "8.5\n"
     ]
    }
   ],
   "source": [
    "a =  percentile([3310, 3355, 3450, 3650, 3480, 3480, 3490, 3520, 3540, 3550,  3730, 3925], 85\n",
    ")\n",
    "print (a)\n",
    "\n",
    "a =  percentile([1 , 2, 3, 4, 5, 6, 7, 9 , 10, 8], 80)\n",
    "print (a)"
   ]
  },
  {
   "cell_type": "code",
   "execution_count": 5,
   "metadata": {
    "collapsed": true
   },
   "outputs": [],
   "source": [
    "# Function named: “Pearson_correl”\n",
    "def Pearson_correl(x1, x2, sample=True):\n",
    "  try: \n",
    "    if len(x1) != len(x2):\n",
    "      raise Exception()\n",
    "  except:\n",
    "    print ('please enter data sets of equal length')\n",
    "    return \n",
    "\n",
    "  def mean(x):\n",
    "    return sum(x)/len(x)\n",
    "\n",
    "  mean_x1 = mean(x1)\n",
    "  mean_x2 = mean(x2)\n",
    "\n",
    "  n = len(x1)\n",
    "\n",
    "  if sample: \n",
    "    sample_deviation_x1 = math.sqrt(sum([(x - mean_x1)**2 for x in x1]) / (n - 1))\n",
    "    sample_deviation_x2 = math.sqrt(sum([(x - mean_x2)**2 for x in x2]) / (n - 1))\n",
    "    sample_covariance = sum([(x1[i] - mean_x1)*(x2[i] - mean_x2) for i in xrange(n)]) / (n-1)\n",
    "\n",
    "    return sample_covariance/(sample_deviation_x1 * sample_deviation_x2)\n",
    "  else: \n",
    "    population_deviation_x1 = math.sqrt(sum([(x - mean_x1)**2 for x in x1]) / n)\n",
    "    population_deviation_x2 = math.sqrt(sum([(x - mean_x2)**2 for x in x2]) / n)\n",
    "    population_covariance = sum([(x1[i] - mean_x1)*(x2[i] - mean_x2) for i in xrange(n)]) / n\n",
    "\n",
    "    return population_covariance/(population_deviation_x1 * population_deviation_x2)\n"
   ]
  },
  {
   "cell_type": "code",
   "execution_count": 6,
   "metadata": {
    "collapsed": true
   },
   "outputs": [],
   "source": [
    "# Function named “z_score”\n",
    "def z_score(sample, x):\n",
    "    mean_sample = sum(sample)/len(sample)\n",
    "    standand_deviation_sample = math.sqrt(sum([(s - mean_sample)**2 for s in sample]) / (len(sample) - 1))\n",
    "    \n",
    "    return (x - mean_sample)/standand_deviation_sample\n"
   ]
  },
  {
   "cell_type": "code",
   "execution_count": 7,
   "metadata": {
    "collapsed": true
   },
   "outputs": [],
   "source": [
    "# Function named: “Pearson_correl”\n",
    "def Pearson_correl(x1, x2, sample=True):\n",
    "  try: \n",
    "    if len(x1) != len(x2):\n",
    "      raise Exception()\n",
    "  except:\n",
    "    print ('please enter data sets of equal length')\n",
    "    return \n",
    "\n",
    "  def mean(x):\n",
    "    return sum(x)/len(x)\n",
    "\n",
    "  mean_x1 = mean(x1)\n",
    "  mean_x2 = mean(x2)\n",
    "\n",
    "  n = len(x1)\n",
    "\n",
    "  if sample: \n",
    "    sample_deviation_x1 = math.sqrt(sum([(x - mean_x1)**2 for x in x1]) / (n - 1))\n",
    "    sample_deviation_x2 = math.sqrt(sum([(x - mean_x2)**2 for x in x2]) / (n - 1))\n",
    "    sample_covariance = sum([(x1[i] - mean_x1)*(x2[i] - mean_x2) for i in xrange(n)]) / (n-1)\n",
    "\n",
    "    return sample_covariance/(sample_deviation_x1 * sample_deviation_x2)\n",
    "  else: \n",
    "    population_deviation_x1 = math.sqrt(sum([(x - mean_x1)**2 for x in x1]) / n)\n",
    "    population_deviation_x2 = math.sqrt(sum([(x - mean_x2)**2 for x in x2]) / n)\n",
    "    population_covariance = sum([(x1[i] - mean_x1)*(x2[i] - mean_x2) for i in xrange(n)]) / n\n",
    "\n",
    "    return population_covariance/(population_deviation_x1 * population_deviation_x2)"
   ]
  },
  {
   "cell_type": "code",
   "execution_count": null,
   "metadata": {
    "collapsed": true
   },
   "outputs": [],
   "source": []
  }
 ],
 "metadata": {
  "kernelspec": {
   "display_name": "Python 3",
   "language": "python",
   "name": "python3"
  },
  "language_info": {
   "codemirror_mode": {
    "name": "ipython",
    "version": 3
   },
   "file_extension": ".py",
   "mimetype": "text/x-python",
   "name": "python",
   "nbconvert_exporter": "python",
   "pygments_lexer": "ipython3",
   "version": "3.6.0"
  }
 },
 "nbformat": 4,
 "nbformat_minor": 2
}
