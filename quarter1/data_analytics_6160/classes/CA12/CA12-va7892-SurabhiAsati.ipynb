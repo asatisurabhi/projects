{
 "cells": [
  {
   "cell_type": "code",
   "execution_count": 10,
   "metadata": {
    "collapsed": true
   },
   "outputs": [],
   "source": [
    "# video notes may 26th chapter 12\n",
    "from scipy.stats import chi2, f"
   ]
  },
  {
   "cell_type": "code",
   "execution_count": 3,
   "metadata": {
    "collapsed": false
   },
   "outputs": [
    {
     "name": "stdout",
     "output_type": "stream",
     "text": [
      "chi_square:  7.891045125087675 \n",
      "p_value:  0.0193411067905 \n",
      "crit:  5.99146454711\n"
     ]
    }
   ],
   "source": [
    "observed = [69,120,123,56,80,52]\n",
    "expected = [78,124.8,109.2,47,75.2,65.8]\n",
    "\n",
    "chi_square = 0\n",
    "for i in range(len(observed)):\n",
    "    chi_square += (observed[i]-expected[i])**2/expected[i]\n",
    "p_value = 1-chi2.cdf(chi_square,2) #upper tail test\n",
    "crit = chi2.ppf(0.95,2)\n",
    "\n",
    "print('chi_square: ',chi_square,'\\np_value: ',p_value,'\\ncrit: ',crit)"
   ]
  },
  {
   "cell_type": "code",
   "execution_count": 6,
   "metadata": {
    "collapsed": false
   },
   "outputs": [
    {
     "name": "stdout",
     "output_type": "stream",
     "text": [
      "chi_square:  7.946633412471923 \n",
      "p_value:  0.0471276042874\n"
     ]
    }
   ],
   "source": [
    "# Class notes may26th\n",
    "\n",
    "observed = [21,27,27,36,21,36,42,90]\n",
    "expected = [15.54,23.31,25.53,46.62,26.46,39.69,43.47,79.38]\n",
    "\n",
    "chi_square = 0\n",
    "for i in range(len(observed)):\n",
    "    chi_square += (observed[i]-expected[i])**2/expected[i]\n",
    "df = (4-1)*(2-1)\n",
    "p_value = 1-chi2.cdf(chi_square,df)\n",
    "\n",
    "\n",
    "print('chi_square: ',chi_square,'\\np_value: ',p_value)"
   ]
  },
  {
   "cell_type": "code",
   "execution_count": 7,
   "metadata": {
    "collapsed": false
   },
   "outputs": [
    {
     "name": "stdout",
     "output_type": "stream",
     "text": [
      "chi_square1:  5.852032967032968\n"
     ]
    }
   ],
   "source": [
    "# Class notes may26th\n",
    "# Ho: \n",
    "# Ha:\n",
    "\n",
    "observed1 = [105,72,89,84,70,80]\n",
    "expected1 = [120,65,100,80,65,70]\n",
    "\n",
    "\n",
    "chisquare1 = sum([(x-y)**2/y for x,y in zip(observed1,expected1)])\n",
    "print('chi_square1: ',chisquare1)\n"
   ]
  },
  {
   "cell_type": "code",
   "execution_count": 8,
   "metadata": {
    "collapsed": false
   },
   "outputs": [
    {
     "name": "stdout",
     "output_type": "stream",
     "text": [
      "pvalue1:  0.320884090101\n"
     ]
    }
   ],
   "source": [
    "df1 = 6-1\n",
    "pvalue1 = 1-chi2.cdf(chisquare1, df1)\n",
    "print('pvalue1: ',pvalue1)"
   ]
  },
  {
   "cell_type": "code",
   "execution_count": 11,
   "metadata": {
    "collapsed": false
   },
   "outputs": [
    {
     "data": {
      "text/plain": [
       "0.093050154756637249"
      ]
     },
     "execution_count": 11,
     "metadata": {},
     "output_type": "execute_result"
    }
   ],
   "source": [
    "# Annova example\n",
    "# Ho: u1=u2=u3=u4\n",
    "# Ha: at least one of them is not equal\n",
    "\n",
    "1 - f.cdf(2.54,3,16)"
   ]
  },
  {
   "cell_type": "code",
   "execution_count": null,
   "metadata": {
    "collapsed": true
   },
   "outputs": [],
   "source": [
    "# Conclusion: 0.09>0.05 so, we do not reject Ho or accept Ho"
   ]
  }
 ],
 "metadata": {
  "kernelspec": {
   "display_name": "Python 3",
   "language": "python",
   "name": "python3"
  },
  "language_info": {
   "codemirror_mode": {
    "name": "ipython",
    "version": 3
   },
   "file_extension": ".py",
   "mimetype": "text/x-python",
   "name": "python",
   "nbconvert_exporter": "python",
   "pygments_lexer": "ipython3",
   "version": "3.6.0"
  }
 },
 "nbformat": 4,
 "nbformat_minor": 2
}
