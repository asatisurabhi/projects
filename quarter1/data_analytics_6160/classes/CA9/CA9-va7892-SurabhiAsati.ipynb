{
 "cells": [
  {
   "cell_type": "code",
   "execution_count": 1,
   "metadata": {
    "collapsed": true
   },
   "outputs": [],
   "source": [
    "from math import *\n",
    "from scipy.stats import norm, t, binom"
   ]
  },
  {
   "cell_type": "markdown",
   "metadata": {},
   "source": [
    "## Tax Filing Example: lower-tail test with population SD\n",
    "### Hypotheses Development and Information Collection\n",
    "\n",
    "$H_0: \\mu \\geq \\$1056$ (last-minute filers receive a mean refund of **at least** $1056)\n",
    "\n",
    "$H_a: \\mu < \\$1056$ (last-minute filers receive a mean refund of **less than** $1056)\n",
    "\n",
    "This is a lower tail test.\n",
    "\n",
    "n = 400, $\\bar{X} = 910, \\sigma = 1600, \\alpha = 0.05$ (population SD is available; therefore, we use z-statistic)"
   ]
  },
  {
   "cell_type": "markdown",
   "metadata": {},
   "source": [
    "### Compute the test statistic, p-value and critical value\n",
    "\n",
    "$z = \\dfrac{\\bar{X} - \\mu_0}{\\sigma \\sqrt{n}} = \\dfrac{910 - 1056}{1600 \\sqrt{400}} = -1.825$\n",
    "\n",
    "$p-value = 0.034 < \\alpha = 0.05$ (Conclude that we reject $H_0$)\n",
    "\n",
    "$ z = -1.825 < critical  value = -1.645$ (Conclude that we reject $H_0$)\n",
    "\n"
   ]
  },
  {
   "cell_type": "code",
   "execution_count": 2,
   "metadata": {
    "collapsed": false
   },
   "outputs": [
    {
     "data": {
      "text/plain": [
       "-1.825"
      ]
     },
     "execution_count": 2,
     "metadata": {},
     "output_type": "execute_result"
    }
   ],
   "source": [
    "(910-1056)/80."
   ]
  },
  {
   "cell_type": "code",
   "execution_count": 3,
   "metadata": {
    "collapsed": false
   },
   "outputs": [
    {
     "data": {
      "text/plain": [
       "0.034000514669822422"
      ]
     },
     "execution_count": 3,
     "metadata": {},
     "output_type": "execute_result"
    }
   ],
   "source": [
    "norm.cdf(-1.825)"
   ]
  },
  {
   "cell_type": "code",
   "execution_count": 4,
   "metadata": {
    "collapsed": false
   },
   "outputs": [
    {
     "data": {
      "text/plain": [
       "-1.6448536269514729"
      ]
     },
     "execution_count": 4,
     "metadata": {},
     "output_type": "execute_result"
    }
   ],
   "source": [
    "norm.ppf(0.05)"
   ]
  },
  {
   "cell_type": "markdown",
   "metadata": {},
   "source": [
    "## Wall Street Example: two-tailed test with population SD"
   ]
  },
  {
   "cell_type": "code",
   "execution_count": 5,
   "metadata": {
    "collapsed": false
   },
   "outputs": [
    {
     "data": {
      "text/plain": [
       "4743.416490252569"
      ]
     },
     "execution_count": 5,
     "metadata": {},
     "output_type": "execute_result"
    }
   ],
   "source": [
    "30000./sqrt(40)"
   ]
  },
  {
   "cell_type": "code",
   "execution_count": 6,
   "metadata": {
    "collapsed": false
   },
   "outputs": [
    {
     "name": "stdout",
     "output_type": "stream",
     "text": [
      "-1.5811388300841898\n"
     ]
    }
   ],
   "source": [
    "z = (118000. - 125500)/30000*sqrt(40)\n",
    "print(z)"
   ]
  },
  {
   "cell_type": "code",
   "execution_count": 7,
   "metadata": {
    "collapsed": false
   },
   "outputs": [
    {
     "name": "stdout",
     "output_type": "stream",
     "text": [
      "-1.95996398454 1.95996398454\n"
     ]
    }
   ],
   "source": [
    "cz_lower = norm.ppf(0.05/2)\n",
    "cz_upper = norm.ppf(1 - 0.05/2)\n",
    "print(cz_lower, cz_upper)"
   ]
  },
  {
   "cell_type": "code",
   "execution_count": 8,
   "metadata": {
    "collapsed": false
   },
   "outputs": [
    {
     "name": "stdout",
     "output_type": "stream",
     "text": [
      "0.113846298007\n"
     ]
    }
   ],
   "source": [
    "p_value = 2*norm.cdf(z)\n",
    "print(p_value)"
   ]
  },
  {
   "cell_type": "markdown",
   "metadata": {},
   "source": [
    "## Unemployment Benefit Example: lower-tail test w/o population SD"
   ]
  },
  {
   "cell_type": "code",
   "execution_count": 9,
   "metadata": {
    "collapsed": false
   },
   "outputs": [
    {
     "name": "stdout",
     "output_type": "stream",
     "text": [
      "-0.875\n"
     ]
    }
   ],
   "source": [
    "t_score = (231. - 238)/80*10\n",
    "print(t_score)"
   ]
  },
  {
   "cell_type": "code",
   "execution_count": 10,
   "metadata": {
    "collapsed": false
   },
   "outputs": [
    {
     "name": "stdout",
     "output_type": "stream",
     "text": [
      "-1.660391156\n"
     ]
    }
   ],
   "source": [
    "critical_t = t.ppf(0.05, 99)\n",
    "print(critical_t)"
   ]
  },
  {
   "cell_type": "code",
   "execution_count": 11,
   "metadata": {
    "collapsed": false
   },
   "outputs": [
    {
     "name": "stdout",
     "output_type": "stream",
     "text": [
      "0.191845893845\n"
     ]
    }
   ],
   "source": [
    "p_value = t.cdf(t_score, 99)\n",
    "print(p_value)"
   ]
  },
  {
   "cell_type": "markdown",
   "metadata": {},
   "source": [
    "## CNN Viewership Example: two-tailed test w/o population SD"
   ]
  },
  {
   "cell_type": "code",
   "execution_count": 12,
   "metadata": {
    "collapsed": false
   },
   "outputs": [
    {
     "data": {
      "text/plain": [
       "10277.402395547233"
      ]
     },
     "execution_count": 12,
     "metadata": {},
     "output_type": "execute_result"
    }
   ],
   "source": [
    "65000/sqrt(40)"
   ]
  },
  {
   "cell_type": "code",
   "execution_count": 13,
   "metadata": {
    "collapsed": false
   },
   "outputs": [
    {
     "name": "stdout",
     "output_type": "stream",
     "text": [
      "1.167610212985248\n"
     ]
    }
   ],
   "source": [
    "t_score = (612000. - 600000)/65000*sqrt(40)\n",
    "print(t_score)"
   ]
  },
  {
   "cell_type": "code",
   "execution_count": 14,
   "metadata": {
    "collapsed": false
   },
   "outputs": [
    {
     "name": "stdout",
     "output_type": "stream",
     "text": [
      "0.250053080758\n"
     ]
    }
   ],
   "source": [
    "p_value = 2*(1 - t.cdf(t_score, 39))\n",
    "print(p_value)"
   ]
  },
  {
   "cell_type": "code",
   "execution_count": 15,
   "metadata": {
    "collapsed": false
   },
   "outputs": [
    {
     "name": "stdout",
     "output_type": "stream",
     "text": [
      "-2.70791318352\n"
     ]
    }
   ],
   "source": [
    "critical_t = t.ppf(0.005, 39)\n",
    "print(critical_t)"
   ]
  },
  {
   "cell_type": "markdown",
   "metadata": {},
   "source": [
    "## Union Membership Example: upper-tail test for proportion"
   ]
  },
  {
   "cell_type": "code",
   "execution_count": 16,
   "metadata": {
    "collapsed": false
   },
   "outputs": [
    {
     "name": "stdout",
     "output_type": "stream",
     "text": [
      "0.13\n"
     ]
    }
   ],
   "source": [
    "p_bar = 52/400\n",
    "print(p_bar)"
   ]
  },
  {
   "cell_type": "code",
   "execution_count": 17,
   "metadata": {
    "collapsed": false
   },
   "outputs": [
    {
     "name": "stdout",
     "output_type": "stream",
     "text": [
      "0.016815171720800236\n"
     ]
    }
   ],
   "source": [
    "SE = sqrt(p_bar*(1-p_bar)/400)\n",
    "print(SE)"
   ]
  },
  {
   "cell_type": "code",
   "execution_count": 18,
   "metadata": {
    "collapsed": false
   },
   "outputs": [
    {
     "name": "stdout",
     "output_type": "stream",
     "text": [
      "0.2973505167250266\n",
      "0.383099458961\n"
     ]
    }
   ],
   "source": [
    "z_score = (p_bar - 0.125)/SE\n",
    "p_value = 1 - norm.cdf(z_score)\n",
    "print(z_score)\n",
    "print(p_value)"
   ]
  },
  {
   "cell_type": "code",
   "execution_count": 19,
   "metadata": {
    "collapsed": false
   },
   "outputs": [
    {
     "name": "stdout",
     "output_type": "stream",
     "text": [
      "1.28155156554\n"
     ]
    }
   ],
   "source": [
    "critical_z = norm.ppf(.9)\n",
    "print(critical_z)"
   ]
  },
  {
   "cell_type": "markdown",
   "metadata": {},
   "source": [
    "## Brand Name Example: two-tailed test or one-tailed test for proportion?\n",
    "* A study by Consumer Reports showed that 64% of supermarket shoppers believe super-market brands to be as good as national name brands. To investigate whether this result applies to its own product, the manufacturer of a national name-brand ketchup asked a sample of shoppers whether they believed that supermarket ketchup was as good as the national brand ketchup.\n",
    "* Formulate the hypotheses that could be used to determine whether the percentage of supermarket shoppers who believe that the supermarket ketchup was as good as the national brand ketchup differed from 64%.\n"
   ]
  },
  {
   "cell_type": "markdown",
   "metadata": {},
   "source": [
    "$H_0$: p = 64%\n",
    "\n",
    "$H_a$: p $\\neq$ 64%"
   ]
  },
  {
   "cell_type": "markdown",
   "metadata": {},
   "source": [
    "#### If a sample of 100 shoppers showed 52 stating that the supermarket brand was as good as the national brand, what is the p-value?\n",
    "n = 100, $\\bar{p} = 52%$, $\\sigma_\\bar{p}$ = SE = $\\sqrt{\\frac{\\bar{p}(1-\\bar{p}}{n}}$\n",
    "\n",
    "z = $\\sqrt{\\frac{\\bar{p} - p}{\\sigma_\\bar{p}}}$\n",
    "\n",
    "p-value = Prob(|Z| $\\geq$ |z|) = 2norm.cdf(z)"
   ]
  },
  {
   "cell_type": "code",
   "execution_count": 20,
   "metadata": {
    "collapsed": true
   },
   "outputs": [],
   "source": [
    "from math import sqrt\n",
    "from scipy.stats import norm"
   ]
  },
  {
   "cell_type": "code",
   "execution_count": 21,
   "metadata": {
    "collapsed": false
   },
   "outputs": [
    {
     "name": "stdout",
     "output_type": "stream",
     "text": [
      "0.52 0.049959983987187186\n",
      "-2.401922307076307\n",
      "0.0163091718778\n"
     ]
    }
   ],
   "source": [
    "p_bar = 52./100\n",
    "SE = sqrt(p_bar*(1-p_bar)/100)\n",
    "z = (p_bar - 0.64)/SE\n",
    "p_value = 2*norm.cdf(z)\n",
    "print(p_bar, SE)\n",
    "print(z)\n",
    "print(p_value)"
   ]
  },
  {
   "cell_type": "markdown",
   "metadata": {},
   "source": [
    "#### At $\\alpha$ = .05, what is your conclusion?\n",
    "Since p-value < $\\alpha$, we, the national brand ketchup manufacturer, reject $H_0$ and conclude that the percentage of shoppers who believe the supermarket brand was as good as our national brand is different from 64%."
   ]
  },
  {
   "cell_type": "markdown",
   "metadata": {},
   "source": [
    "#### Should the national brand ketchup manufacturer be pleased with this conclusion? Explain.\n",
    "Not quite. Good different or bad different?\n",
    "From the perspective of the national brank manufacturer, the lower the percentage is, the better. Therefore, we can set up a lower tail test for that purpose.\n",
    "\n",
    "$H_0$: p $\\geq$ 64%\n",
    "\n",
    "$H_a$: p < 64%"
   ]
  },
  {
   "cell_type": "code",
   "execution_count": 22,
   "metadata": {
    "collapsed": false
   },
   "outputs": [
    {
     "name": "stdout",
     "output_type": "stream",
     "text": [
      "0.00815458593888\n"
     ]
    }
   ],
   "source": [
    "# Note that SE and z are all the same as in the two-tailed test.\n",
    "# The only difference will be the p-value. \n",
    "# The p-value in this lower tail test will simply be half of the p-value in the previous two-tailed test\n",
    "p_value = norm.cdf(z)\n",
    "print(p_value)"
   ]
  },
  {
   "cell_type": "markdown",
   "metadata": {},
   "source": [
    "#### With new p-value being much smaller than the significance level of 5%, we reject $H_0$ and conclude that the percentage of shopper who believe supermarket brand was as good as our national brand is LESS than 64%.\n",
    "\n",
    "\n",
    "\n",
    "\n",
    "\n",
    "\n",
    "\n",
    "\n",
    "\n",
    "  "
   ]
  },
  {
   "cell_type": "markdown",
   "metadata": {},
   "source": [
    "  \n",
    "  \n",
    "  \n",
    "  \n",
    "  \n",
    "  "
   ]
  },
  {
   "cell_type": "markdown",
   "metadata": {},
   "source": [
    "## Calculation of Type II Error and Power: An Example\n",
    "Fowle Marketing Research, Inc., bases charges to a client on the assumption that telephone surveys can be completed within 15 minutes or less. If more time is required, a premium rate is charged. With a sample of 35 surveys, a population standard deviation of 4 minutes, and a level of significance of .01, the sample mean will be used to test the null hypothesis $H_0$: μ <= 15."
   ]
  },
  {
   "cell_type": "markdown",
   "metadata": {},
   "source": [
    "$H_0: \\mu \\leq 15$ (mean survey time is **at most** 15 minutes)\n",
    "\n",
    "$H_a: \\mu > 15$ (mean survey time is **greater than** 15 minutes)\n",
    "\n",
    "This is a upper tail test."
   ]
  },
  {
   "cell_type": "markdown",
   "metadata": {},
   "source": [
    "#### What is your interpretation of the Type II error for this problem? What is its impact on the firm?\n",
    "* $\\beta$ = Prob(Type II error) = Prob(Accept $H_0$ | $H_0$ is false)\n",
    "* $\\beta$ = Prob(Accept $\\mu \\leq 15$ | $\\mu > 15$)"
   ]
  },
  {
   "cell_type": "markdown",
   "metadata": {},
   "source": [
    "#### What is the probability of making a Type II error when the actual mean time is μ = 17 minutes?"
   ]
  },
  {
   "cell_type": "code",
   "execution_count": 23,
   "metadata": {
    "collapsed": false
   },
   "outputs": [
    {
     "name": "stdout",
     "output_type": "stream",
     "text": [
      "2.32634787404\n"
     ]
    }
   ],
   "source": [
    "# We compute critical z value given $\\alpha = .01$ first.\n",
    "# This is an upper tail test. Therefore,\n",
    "crit_z = norm.ppf(.99)\n",
    "print(crit_z)"
   ]
  },
  {
   "cell_type": "code",
   "execution_count": 24,
   "metadata": {
    "collapsed": false
   },
   "outputs": [
    {
     "name": "stdout",
     "output_type": "stream",
     "text": [
      "16.572898243\n"
     ]
    }
   ],
   "source": [
    "# Based on critical z, we compute the value of critical sample mean, beyond which we reject $H_0$\n",
    "# critical sample mean = hypothesized mean (15) + critical z * SE\n",
    "crit_sample_mean = 15. + crit_z*4/sqrt(35)\n",
    "print(crit_sample_mean)"
   ]
  },
  {
   "cell_type": "markdown",
   "metadata": {},
   "source": [
    "#### For a sample mean lower than 16.573 minutes, $H_0$ will be accepted; otherwise, we reject $H_0$\n",
    "#### Now given μ = 17 (any value greater than 15), we can compute $\\beta$, the probability of making Type II error.\n",
    "#### We are essentially computing the probability that a sample mean will be less than 16.573 given μ = 17. "
   ]
  },
  {
   "cell_type": "code",
   "execution_count": 25,
   "metadata": {
    "collapsed": false
   },
   "outputs": [
    {
     "name": "stdout",
     "output_type": "stream",
     "text": [
      "-0.631692017509\n"
     ]
    }
   ],
   "source": [
    "z_score = (crit_sample_mean - 17)/4*sqrt(35)\n",
    "print(z_score)"
   ]
  },
  {
   "cell_type": "code",
   "execution_count": 26,
   "metadata": {
    "collapsed": false
   },
   "outputs": [
    {
     "name": "stdout",
     "output_type": "stream",
     "text": [
      "0.263794072565\n"
     ]
    }
   ],
   "source": [
    "beta = norm.cdf(z_score)\n",
    "print(beta)"
   ]
  },
  {
   "cell_type": "code",
   "execution_count": 27,
   "metadata": {
    "collapsed": false
   },
   "outputs": [
    {
     "name": "stdout",
     "output_type": "stream",
     "text": [
      "-2.11071196328\n"
     ]
    }
   ],
   "source": [
    "z_score = (crit_sample_mean - 18)/4*sqrt(35)\n",
    "print(z_score)"
   ]
  },
  {
   "cell_type": "code",
   "execution_count": 28,
   "metadata": {
    "collapsed": false
   },
   "outputs": [
    {
     "name": "stdout",
     "output_type": "stream",
     "text": [
      "0.0173985385396\n"
     ]
    }
   ],
   "source": [
    "beta = norm.cdf(z_score)\n",
    "print(beta)"
   ]
  }
 ],
 "metadata": {
  "anaconda-cloud": {},
  "kernelspec": {
   "display_name": "Python [conda root]",
   "language": "python",
   "name": "conda-root-py"
  },
  "language_info": {
   "codemirror_mode": {
    "name": "ipython",
    "version": 3
   },
   "file_extension": ".py",
   "mimetype": "text/x-python",
   "name": "python",
   "nbconvert_exporter": "python",
   "pygments_lexer": "ipython3",
   "version": "3.5.2"
  }
 },
 "nbformat": 4,
 "nbformat_minor": 0
}
