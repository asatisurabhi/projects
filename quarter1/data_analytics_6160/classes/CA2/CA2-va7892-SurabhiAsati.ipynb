{
 "cells": [
  {
   "cell_type": "code",
   "execution_count": 101,
   "metadata": {
    "collapsed": false
   },
   "outputs": [],
   "source": [
    "'''\n",
    "1.\tWrite a function named “factorial”.\n",
    "a.\tIt takes a non-negative integer as the only parameter. It returns the factorial of this integer. Note that 0! = 1. \n",
    "b.\tCatch the following exceptions and provide appropriate error message:\n",
    "i.\tNon-numeric argument\n",
    "ii.\tNon-integer number\n",
    "iii. Negative integer\n",
    "'''\n",
    "def factorial (num):\n",
    "    try:\n",
    "        if not isinstance(num,(int,float,complex)):          #catching exceptions\n",
    "            raise Exception('Please enter numeric argument!')\n",
    "        if not isinstance(num,int):\n",
    "            raise Exception('Please enter integer number!')\n",
    "        if num < 0:\n",
    "            raise Exception('Please enter a non-negative integer!') \n",
    "        fact = 1\n",
    "        for i in range(1,num+1):\n",
    "            fact = fact*i                                   # calculating factorial\n",
    "        print ('Factorial of ', num, 'is : ',fact)\n",
    "        return (fact)\n",
    "    except Exception as e:\n",
    "        print (e)\n",
    "    \n",
    "    \n",
    "    \n"
   ]
  },
  {
   "cell_type": "code",
   "execution_count": 102,
   "metadata": {
    "collapsed": false
   },
   "outputs": [
    {
     "name": "stdout",
     "output_type": "stream",
     "text": [
      "Please enter integer number!\n"
     ]
    }
   ],
   "source": [
    "factorial(4.5) #checking non-integer number"
   ]
  },
  {
   "cell_type": "code",
   "execution_count": 103,
   "metadata": {
    "collapsed": false
   },
   "outputs": [
    {
     "name": "stdout",
     "output_type": "stream",
     "text": [
      "Please enter a non-negative integer!\n"
     ]
    }
   ],
   "source": [
    "factorial(-5)"
   ]
  },
  {
   "cell_type": "code",
   "execution_count": 104,
   "metadata": {
    "collapsed": false
   },
   "outputs": [
    {
     "name": "stdout",
     "output_type": "stream",
     "text": [
      "Please enter numeric argument!\n"
     ]
    }
   ],
   "source": [
    "factorial('andjhks') #checking non-numeric number"
   ]
  },
  {
   "cell_type": "code",
   "execution_count": 105,
   "metadata": {
    "collapsed": false
   },
   "outputs": [
    {
     "name": "stdout",
     "output_type": "stream",
     "text": [
      "Please enter numeric argument!\n"
     ]
    }
   ],
   "source": [
    "factorial('abc')\n"
   ]
  },
  {
   "cell_type": "code",
   "execution_count": 106,
   "metadata": {
    "collapsed": false
   },
   "outputs": [
    {
     "name": "stdout",
     "output_type": "stream",
     "text": [
      "Please enter numeric argument!\n"
     ]
    }
   ],
   "source": [
    "factorial((1,2))"
   ]
  },
  {
   "cell_type": "code",
   "execution_count": 107,
   "metadata": {
    "collapsed": false
   },
   "outputs": [
    {
     "name": "stdout",
     "output_type": "stream",
     "text": [
      "Factorial of  5 is :  120\n"
     ]
    },
    {
     "data": {
      "text/plain": [
       "120"
      ]
     },
     "execution_count": 107,
     "metadata": {},
     "output_type": "execute_result"
    }
   ],
   "source": [
    "factorial(5)"
   ]
  },
  {
   "cell_type": "code",
   "execution_count": 125,
   "metadata": {
    "collapsed": true
   },
   "outputs": [],
   "source": [
    "'''\n",
    "1.\tWrite a function named “combination”.\n",
    "a.\tIt takes two inputs: the first input integer n is the total number of objects in a set;\n",
    "the second input integer k is the number of objects selected from the set. \n",
    "b.\tThe function returns an integer showing the number of combinations of N objects taken n at a time. \n",
    "c.\tMust use your own function “factorial”.\n",
    "\n",
    "'''\n",
    "\n",
    "def combination (n,k):\n",
    "    if k <= n:\n",
    "        total_element = factorial(n)\n",
    "        selected_element = factorial(k)\n",
    "        diff = factorial (n-k)\n",
    "        combi = total_element / (selected_element * diff) #Calculating k combinations of n\n",
    "        print ('Combination of', n, 'elements, selecting', k, 'elements at a time is : ', combi)\n",
    "    else:\n",
    "        print('please check: you cannot select more than n elements out of n elements!!')\n",
    "\n"
   ]
  },
  {
   "cell_type": "code",
   "execution_count": 126,
   "metadata": {
    "collapsed": false
   },
   "outputs": [
    {
     "name": "stdout",
     "output_type": "stream",
     "text": [
      "Factorial of  5 is :  120\n",
      "Factorial of  3 is :  6\n",
      "Factorial of  2 is :  2\n",
      "Combination of 5 elements, selecting 3 elements at a time is :  10.0\n"
     ]
    }
   ],
   "source": [
    "combination(5,3)"
   ]
  },
  {
   "cell_type": "code",
   "execution_count": 127,
   "metadata": {
    "collapsed": true
   },
   "outputs": [],
   "source": [
    "'''\n",
    "1.\tWrite a function named “permutation”.\n",
    "a.\tIt takes two inputs: the first input integer n is the total number of objects in a set;\n",
    "the second input integer k is the number of objects selected from the set. \n",
    "b.\tThe function returns an integer showing the number of permutations of N objects taken n at a time. \n",
    "Must use your own function “factorial”\n",
    "'''\n",
    "def permutation (a,b):\n",
    "    if b <= a:\n",
    "        set = factorial(a)\n",
    "        subset = factorial (a-b)\n",
    "        perm = set / subset               #Calculating b permutaions of a\n",
    "        print (b,'Permutations of',a, 'objects is: ',perm)\n",
    "    else:\n",
    "        print('please check: you cannot choose more than n elements out of n elements!!')\n"
   ]
  },
  {
   "cell_type": "code",
   "execution_count": 128,
   "metadata": {
    "collapsed": false
   },
   "outputs": [
    {
     "name": "stdout",
     "output_type": "stream",
     "text": [
      "Factorial of  5 is :  120\n",
      "Factorial of  2 is :  2\n",
      "3 Permutations of 5 objects is:  60.0\n"
     ]
    }
   ],
   "source": [
    "permutation(5,3)"
   ]
  },
  {
   "cell_type": "code",
   "execution_count": 129,
   "metadata": {
    "collapsed": false
   },
   "outputs": [
    {
     "name": "stdout",
     "output_type": "stream",
     "text": [
      "please check: you cannot choose more than n elements out of n elements!!\n"
     ]
    }
   ],
   "source": [
    "permutation(5,9.6) #catching exception if user tries to select elements more than size of set"
   ]
  },
  {
   "cell_type": "code",
   "execution_count": 130,
   "metadata": {
    "collapsed": false
   },
   "outputs": [
    {
     "name": "stdout",
     "output_type": "stream",
     "text": [
      "please check: you cannot choose more than n elements out of n elements!!\n"
     ]
    }
   ],
   "source": [
    "permutation(5,7)"
   ]
  },
  {
   "cell_type": "code",
   "execution_count": 137,
   "metadata": {
    "collapsed": true
   },
   "outputs": [],
   "source": [
    "'''\n",
    "In the Jupyter notebook, use your functions to answer all the questions on \n",
    "Slides 4 and 5 of Ch04.ppt that accompanies the video AWS04. \n",
    "Make sure you provide succinct comments in your Jupyter notebook so that people understand what you try to do\n",
    "\n",
    "'''\n",
    "'''\n",
    "1. Ordered Sampling with Replacement\n",
    "You are taking a multiple-choice quiz that has 5 questions. \n",
    "Each question has four answer choices, with one correct answer per question. \n",
    "If you select one of these four choices for each question and leave nothing blank, \n",
    "in how many ways can you answer these five questions in the quiz?\n",
    "\n",
    "'''\n",
    "\n",
    "def ordered_Replacement (n,k):\n",
    "    import math    \n",
    "    return (math.pow(n,k)) #ordered sampling with replacement is n^k\n"
   ]
  },
  {
   "cell_type": "code",
   "execution_count": 138,
   "metadata": {
    "collapsed": false
   },
   "outputs": [
    {
     "data": {
      "text/plain": [
       "1024.0"
      ]
     },
     "execution_count": 138,
     "metadata": {},
     "output_type": "execute_result"
    }
   ],
   "source": [
    "ordered_Replacement(4,5)"
   ]
  },
  {
   "cell_type": "code",
   "execution_count": 186,
   "metadata": {
    "collapsed": false
   },
   "outputs": [],
   "source": [
    "'''\n",
    "2. Ordered Sampling without Replacement (Permutation)\n",
    "\n",
    "a. In how many ways can the letters of the word ‘PYTHON’ be arranged?\n",
    "b. In how many ways can the letters of the word ‘DATA’ be arranged? (Distinguishable Permutation)\n",
    "c. A ship’s captain sends signals by arranging 4 red, 3 green, and 2 blue flags on a vertical pole.\n",
    "    How many different signals could the captain possibly send?\n",
    "\n",
    "'''\n",
    "\n",
    "def ordered_No_replacement (str):\n",
    "  \n",
    "    n = len(str)\n",
    "    k = 0\n",
    "    char_count = countLetters(str)\n",
    "    for j in char_count:\n",
    "        if char_count[j] > 1:\n",
    "            k = char_count[j]\n",
    "    if k > 1:\n",
    "        ab = permutation(n,k) # calling permutation function to rearrange words with repeating letters\n",
    "    else:\n",
    "        ab = factorial(n)  # calling factorial function to rearrange words with non-repeating letters\n",
    "    \n",
    "        \n",
    "def countLetters(word): #function to create a dictionary with count of each letter in a word  \n",
    "    letterdict = {}\n",
    "    for letter in word:\n",
    "        letterdict[letter] = letterdict.get(letter, 0) + 1\n",
    "    return letterdict  \n",
    "\n",
    "def arrangement (r,g,b):\n",
    "    n = r + g + b\n",
    "    arrange = factorial(n) / (factorial(r) * factorial(g) * factorial(b)) #calling factorial function to count  \n",
    "    print('Possible arrangement: ')                                       # all possible word arrangements\n",
    "    return (arrange)\n"
   ]
  },
  {
   "cell_type": "code",
   "execution_count": 187,
   "metadata": {
    "collapsed": false
   },
   "outputs": [
    {
     "name": "stdout",
     "output_type": "stream",
     "text": [
      "Factorial of  6 is :  720\n"
     ]
    }
   ],
   "source": [
    "ordered_No_replacement('PYTHON')"
   ]
  },
  {
   "cell_type": "code",
   "execution_count": 188,
   "metadata": {
    "collapsed": false
   },
   "outputs": [
    {
     "name": "stdout",
     "output_type": "stream",
     "text": [
      "Factorial of  4 is :  24\n",
      "Factorial of  2 is :  2\n",
      "2 Permutations of 4 objects is:  12.0\n"
     ]
    }
   ],
   "source": [
    "ordered_No_replacement('DATA')"
   ]
  },
  {
   "cell_type": "code",
   "execution_count": 189,
   "metadata": {
    "collapsed": false
   },
   "outputs": [
    {
     "name": "stdout",
     "output_type": "stream",
     "text": [
      "Factorial of  9 is :  362880\n",
      "Factorial of  4 is :  24\n",
      "Factorial of  3 is :  6\n",
      "Factorial of  2 is :  2\n",
      "Possible arrangement: \n"
     ]
    },
    {
     "data": {
      "text/plain": [
       "1260.0"
      ]
     },
     "execution_count": 189,
     "metadata": {},
     "output_type": "execute_result"
    }
   ],
   "source": [
    "arrangement(4,3,2)"
   ]
  },
  {
   "cell_type": "code",
   "execution_count": 192,
   "metadata": {
    "collapsed": false
   },
   "outputs": [
    {
     "name": "stdout",
     "output_type": "stream",
     "text": [
      "Factorial of  5 is :  120\n",
      "Factorial of  2 is :  2\n",
      "Factorial of  3 is :  6\n",
      "Combination of 5 elements, selecting 2 elements at a time is :  10.0\n"
     ]
    }
   ],
   "source": [
    "'''\n",
    "3. Unordered Sampling without Replacement (Combination)\n",
    "A quality inspector randomly selects two out of five parts to test for defects.\n",
    "How many combinations of two parts can be selected?\n",
    "'''\n",
    "\n",
    "combination_of_2_parts = combination(5,2)\n"
   ]
  },
  {
   "cell_type": "code",
   "execution_count": 195,
   "metadata": {
    "collapsed": true
   },
   "outputs": [],
   "source": [
    "'''\n",
    "4. Unordered Sampling with Replacement\n",
    "12 passengers get on a shuttle at the airport, which stops at 4 hotels.\n",
    "Each passenger gets off the shuttle at his or her hotel.\n",
    "The driver records how many passengers leave the shuttle at each hotel. How many possibilities exist?\n",
    "'''\n",
    "def unordered_with_replacement(n,k):\n",
    "    x = (n+k-1)\n",
    "    y = (k-1)\n",
    "    return(combination(x,y))\n",
    "    "
   ]
  },
  {
   "cell_type": "code",
   "execution_count": 196,
   "metadata": {
    "collapsed": false
   },
   "outputs": [
    {
     "name": "stdout",
     "output_type": "stream",
     "text": [
      "Factorial of  15 is :  1307674368000\n",
      "Factorial of  11 is :  39916800\n",
      "Factorial of  4 is :  24\n",
      "Combination of 15 elements, selecting 11 elements at a time is :  1365.0\n"
     ]
    }
   ],
   "source": [
    "unordered_with_replacement(4,12)"
   ]
  },
  {
   "cell_type": "code",
   "execution_count": null,
   "metadata": {
    "collapsed": true
   },
   "outputs": [],
   "source": []
  }
 ],
 "metadata": {
  "kernelspec": {
   "display_name": "Python 3",
   "language": "python",
   "name": "python3"
  },
  "language_info": {
   "codemirror_mode": {
    "name": "ipython",
    "version": 3
   },
   "file_extension": ".py",
   "mimetype": "text/x-python",
   "name": "python",
   "nbconvert_exporter": "python",
   "pygments_lexer": "ipython3",
   "version": "3.6.0"
  }
 },
 "nbformat": 4,
 "nbformat_minor": 2
}
