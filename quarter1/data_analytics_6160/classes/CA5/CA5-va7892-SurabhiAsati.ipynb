{
 "cells": [
  {
   "cell_type": "markdown",
   "metadata": {},
   "source": [
    "Create a function named “power_in_hypo_test_for_mean” in this notebook following the starter code provided below. This is the hardest coding assignment, not from coding perspective, but from statistical perspective.\n",
    "\n",
    "The function takes the following inputs: \n",
    "1. mu_b: a real number for population mean based on which we compute beta value and power; \n",
    "    * Recall that Type II error is accepting H0 when it is false.\n",
    "    * It is critical to determine what values mu_b can assume (it must make H0 false).\n",
    "2. mu_h: a real number for hypothesized population mean in the original hypotheses; \n",
    "3. n: a positive integer for sample size; \n",
    "4. alpha: a real number between 0 and 1 for significance level\n",
    "5. sd: a positive real number for population or sample standard deviation; \n",
    "6. pop: a boolean indicating whether sd is population standard deviation or sample sd. The default is True, i.e. population sd.\n",
    "7. tail: test type indicator, taking on one of the values of -1, 0, or 1, where -1 means lower tail test, 0 means two-tailed test, and 1 means upper tail test; the default is -1. \n",
    "\n",
    "The function returns a real number between 0 and 1 for the power of the hypothesis test. \n",
    "* Make sure you handle the exception that tail is not equal to -1, 0, or 1.\n",
    "* Note that the returned value is power, not beta, the probability of type II error."
   ]
  },
  {
   "cell_type": "code",
   "execution_count": 110,
   "metadata": {
    "collapsed": false
   },
   "outputs": [],
   "source": [
    "from scipy.stats import norm, t\n",
    "from math import *\n",
    "\n",
    "def power_in_hypo_test_for_mean(mu_b, mu_h, n, alpha, sd, pop=True, tail=-1):\n",
    "    if pop == 1:\n",
    "        if tail == -1:    \n",
    "            # We compute critical z value given alpha\n",
    "            # This is a lower tail test. Therefore,\n",
    "            crit_z = norm.ppf(alpha)\n",
    "            print('crit_z',crit_z)\n",
    "        elif tail == 0:\n",
    "            # This is a two tail test. Therefore, we compute both upper and lower tail critical z\n",
    "            crit_zl = norm.ppf(alpha/2)\n",
    "            print('crit_zlower',crit_zl)\n",
    "            crit_zu = norm.ppf(1 - alpha/2)\n",
    "            print('crit_zUpper',crit_zu)\n",
    "        elif tail == 1:\n",
    "            # We compute critical z value given alpha\n",
    "            # This is an upper tail test. Therefore,\n",
    "            crit_z = norm.ppf(1-alpha)\n",
    "            print('crit_z',crit_z)\n",
    "        # Now, we compute the Critical sample mean = hypothesized mean + (critical z * S.E.)\n",
    "        if tail == -1 or tail == 1:\n",
    "            x_critical = mu_h + (crit_z * (sd/sqrt(n)))\n",
    "            print('x_critical', x_critical)\n",
    "        # Now, we compute the Critical sample mean for two tailed test\n",
    "        if tail == 0:\n",
    "            x_critical_lower = mu_h + (crit_zl * (sd/sqrt(n)))\n",
    "            print('x_critical lower', x_critical_lower)\n",
    "            x_critical_upper = mu_h + (crit_zu * (sd/sqrt(n)))\n",
    "            print('x_critical upper', x_critical_upper)\n",
    "        # Calculate the z score or test statistic if population standard deviation (sigma) is given\n",
    "        if tail == -1 or tail == 1:\n",
    "            z_score = (x_critical - mu_b)/(sd/sqrt(n))\n",
    "            print('z_score',z_score)\n",
    "        # Calculate the z score for two tailed test\n",
    "        if tail == 0:\n",
    "            z_score_lower = (x_critical_lower - mu_b)/(sd/sqrt(n))\n",
    "            print('z_score lower',z_score_lower)\n",
    "            z_score_upper = (x_critical_upper - mu_b)/(sd/sqrt(n))\n",
    "            print('z_score upper',z_score_upper)\n",
    "        # Calculate the probability of type II error (Beta) and power (1 - beta)\n",
    "        if tail == 1:\n",
    "            beta = norm.cdf(z_score)\n",
    "            print('beta',beta)\n",
    "            power = 1 - beta\n",
    "        elif tail == -1:\n",
    "            beta = 1 - norm.cdf(z_score)\n",
    "            print('beta',beta)\n",
    "            power = 1 - beta\n",
    "        elif tail == 0: \n",
    "            beta_lower = norm.cdf(z_score_lower)\n",
    "            print('beta lower',beta_lower)\n",
    "            beta_upper = norm.cdf(z_score_upper)\n",
    "            print('beta upper',beta_upper)\n",
    "            final_beta = beta_upper - beta_lower\n",
    "            print('Probability of Type II Error Beta: ',final_beta)\n",
    "            power = 1 - final_beta\n",
    "    elif pop == 0:\n",
    "        if tail == -1:    \n",
    "            # We compute critical t value given alpha\n",
    "            # This is a lower tail test. Therefore,\n",
    "            crit_t = t.ppf(alpha, n-1)\n",
    "            print('critical_t',crit_t)\n",
    "        elif tail == 0:\n",
    "            # This is a two tail test. Therefore, we compute both upper and lower tail critical z\n",
    "            crit_tl = t.ppf(alpha/2, n-1)\n",
    "            print('critical_t_lower',crit_tl)\n",
    "            crit_tu = t.ppf(1 - alpha/2, n-1)\n",
    "            print('critical_t_upper',crit_tu)\n",
    "        elif tail == 1:\n",
    "            # We compute critical z value given alpha\n",
    "            # This is an upper tail test. Therefore,\n",
    "            crit_t = t.ppf(1-alpha, n-1)\n",
    "            print('crit_t',crit_t)\n",
    "        # Now, we compute the Critical sample mean = hypothesized mean + (critical t * S.E.)\n",
    "        if tail == -1 or tail == 1:\n",
    "            x_critical = mu_h + (crit_t * (sd/sqrt(n)))\n",
    "        # Now, we compute the Critical sample mean for two tailed test\n",
    "        if tail == 0:\n",
    "            x_critical_lower = mu_h + (crit_tl * (sd/sqrt(n)))\n",
    "            print('x_critical lower', x_critical_lower)\n",
    "            x_critical_upper = mu_h + (crit_tu * (sd/sqrt(n)))\n",
    "            print('x_critical upper', x_critical_upper)\n",
    "        # Calculate the t score or test statistic if sample standard deviation (s) is given\n",
    "        if tail == -1 or tail == 1:\n",
    "            t_score = (x_critical - mu_b)/(sd*sqrt(n))\n",
    "            print('t_score',t_score)\n",
    "        # Calculate the t score for two tailed test\n",
    "        if tail == 0:\n",
    "            t_score_lower = (x_critical_lower - mu_b)/(sd/sqrt(n))\n",
    "            print('t_score lower',t_score_lower)\n",
    "            t_score_upper = (x_critical_upper - mu_b)/(sd/sqrt(n))\n",
    "            print('t_score upper',t_score_upper)\n",
    "        # Calculate the probability of type II error (Beta) and power (1 - beta)\n",
    "        if tail == 1:\n",
    "            Beta = t.cdf(t_score, n-1)\n",
    "            print('beta', beta)\n",
    "            power = 1 - beta\n",
    "        elif tail == -1:\n",
    "            beta = 1 - t.cdf(t_score, n-1)\n",
    "            print('beta',beta)\n",
    "            power = 1 - beta\n",
    "        elif tail == 0:\n",
    "            beta_lower = t.cdf(t_score_lower, n-1)\n",
    "            print('beta lower',beta_lower)\n",
    "            beta_upper = t.cdf(t_score_upper, n-1)\n",
    "            print('beta upper',beta_upper)\n",
    "            final_beta = beta_upper - beta_lower\n",
    "            print('Probability of Type II Error Beta: ',final_beta)\n",
    "            power = 1 - final_beta\n",
    "    return (print('\\n***power***',power))\n",
    "            \n",
    "    '''try:\n",
    "        if tail < -1 or tail > 1 or type(tail) != int:\n",
    "            raise Exception()\n",
    "    except:\n",
    "        print ('Please enter -1, 0 or 1 to indicate the hypothesis test')\n",
    "        '''"
   ]
  },
  {
   "cell_type": "code",
   "execution_count": 111,
   "metadata": {
    "collapsed": false
   },
   "outputs": [
    {
     "name": "stdout",
     "output_type": "stream",
     "text": [
      "crit_z 2.32634787404\n",
      "x_critical 16.572898243\n",
      "z_score -0.631692017509\n",
      "beta 0.263794072565\n",
      "\n",
      "***power*** 0.736205927435\n"
     ]
    }
   ],
   "source": [
    "power_in_hypo_test_for_mean(17,15,35,.01,4, pop=True, tail=1) # Upper tail Type II error hypothesis test, Known sd"
   ]
  },
  {
   "cell_type": "code",
   "execution_count": 112,
   "metadata": {
    "collapsed": false
   },
   "outputs": [
    {
     "name": "stdout",
     "output_type": "stream",
     "text": [
      "crit_z 2.32634787404\n",
      "x_critical 16.572898243\n",
      "z_score -2.11071196328\n",
      "beta 0.0173985385396\n",
      "\n",
      "***power*** 0.98260146146\n"
     ]
    }
   ],
   "source": [
    "power_in_hypo_test_for_mean(18,15,35,.01,4, pop=True, tail=1) # Upper tail Type II error hypothesis test, Known sd"
   ]
  },
  {
   "cell_type": "code",
   "execution_count": 113,
   "metadata": {
    "collapsed": false
   },
   "outputs": [
    {
     "name": "stdout",
     "output_type": "stream",
     "text": [
      "crit_z -1.64485362695\n",
      "x_critical 116.710292746\n",
      "z_score 2.35514637305\n",
      "beta 0.0092577053735\n",
      "\n",
      "***power*** 0.990742294627\n"
     ]
    }
   ],
   "source": [
    "power_in_hypo_test_for_mean(112,120,36,.05,12, pop=1, tail=-1) # Lower tail Type II error hypothesis test, Known sd"
   ]
  },
  {
   "cell_type": "code",
   "execution_count": 114,
   "metadata": {
    "collapsed": false
   },
   "outputs": [
    {
     "name": "stdout",
     "output_type": "stream",
     "text": [
      "crit_zlower -1.95996398454\n",
      "crit_zUpper 1.95996398454\n",
      "x_critical lower 26.8240216093\n",
      "x_critical upper 29.1759783907\n",
      "z_score lower 1.37336934879\n",
      "z_score upper 5.29329731787\n",
      "beta lower 0.915181223237\n",
      "beta upper 0.999999939935\n",
      "Probability of Type II Error Beta:  0.0848187166982\n",
      "\n",
      "***power*** 0.915181283302\n"
     ]
    }
   ],
   "source": [
    "power_in_hypo_test_for_mean(26, 28, 100, 0.05, 6, pop=1, tail=0) # Two tail test Type II error ,Known sd"
   ]
  },
  {
   "cell_type": "code",
   "execution_count": 115,
   "metadata": {
    "collapsed": false
   },
   "outputs": [
    {
     "name": "stdout",
     "output_type": "stream",
     "text": [
      "crit_zlower -1.95996398454\n",
      "crit_zUpper 1.95996398454\n",
      "x_critical lower 14.5717640497\n",
      "x_critical upper 16.2282359503\n",
      "z_score lower -1.25003441057\n",
      "z_score upper 2.66989355851\n",
      "beta lower 0.105643488743\n",
      "beta upper 0.996206235217\n",
      "Probability of Type II Error Beta:  0.890562746474\n",
      "\n",
      "***power*** 0.109437253526\n"
     ]
    }
   ],
   "source": [
    "power_in_hypo_test_for_mean(15.1, 15.4, 35, 0.05, 2.5, pop=1, tail=0) # Two tail test Type II error ,Known sd"
   ]
  },
  {
   "cell_type": "code",
   "execution_count": 116,
   "metadata": {
    "collapsed": false
   },
   "outputs": [
    {
     "name": "stdout",
     "output_type": "stream",
     "text": [
      "critical_t_lower -2.03224450932\n",
      "critical_t_upper 2.03224450932\n",
      "x_critical lower 14.5412199532\n",
      "x_critical upper 16.2587800468\n",
      "t_score lower -1.32231493535\n",
      "t_score upper 2.74217408329\n",
      "beta lower 0.0974450663701\n",
      "beta upper 0.995168016051\n",
      "Probability of Type II Error Beta:  0.897722949681\n",
      "\n",
      "***power*** 0.102277050319\n"
     ]
    }
   ],
   "source": [
    "power_in_hypo_test_for_mean(15.1, 15.4, 35, 0.05, 2.5, pop=0, tail=0) # Two tail test Type II error ,Unknown sd"
   ]
  },
  {
   "cell_type": "code",
   "execution_count": null,
   "metadata": {
    "collapsed": true
   },
   "outputs": [],
   "source": []
  }
 ],
 "metadata": {
  "anaconda-cloud": {},
  "kernelspec": {
   "display_name": "Python 3",
   "language": "python",
   "name": "python3"
  },
  "language_info": {
   "codemirror_mode": {
    "name": "ipython",
    "version": 3
   },
   "file_extension": ".py",
   "mimetype": "text/x-python",
   "name": "python",
   "nbconvert_exporter": "python",
   "pygments_lexer": "ipython3",
   "version": "3.6.0"
  }
 },
 "nbformat": 4,
 "nbformat_minor": 1
}
