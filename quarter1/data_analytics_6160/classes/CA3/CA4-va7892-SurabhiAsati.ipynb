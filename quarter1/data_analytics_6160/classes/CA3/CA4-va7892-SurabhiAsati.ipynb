{
 "cells": [
  {
   "cell_type": "markdown",
   "metadata": {},
   "source": [
    "## Two Useful and Important Python Libraries\n",
    "1. numpy: http://www.numpy.org/; https://docs.scipy.org/doc/numpy-dev/user/quickstart.html\n",
    "2. matplotlib: https://matplotlib.org/"
   ]
  },
  {
   "cell_type": "code",
   "execution_count": 47,
   "metadata": {
    "collapsed": true
   },
   "outputs": [],
   "source": [
    "import numpy as np\n",
    "import matplotlib.pyplot as plt\n",
    "#import matplotlib.mlab as mlab"
   ]
  },
  {
   "cell_type": "code",
   "execution_count": 2,
   "metadata": {
    "collapsed": false
   },
   "outputs": [
    {
     "data": {
      "text/plain": [
       "array([[3, 4, 3, 2, 6],\n",
       "       [1, 2, 6, 3, 5],\n",
       "       [2, 3, 5, 4, 2]])"
      ]
     },
     "execution_count": 2,
     "metadata": {},
     "output_type": "execute_result"
    }
   ],
   "source": [
    "#simulating the experiment of rolling 5 dices three times\n",
    "np.random.choice([1,2,3,4,5,6], size = (3,5))"
   ]
  },
  {
   "cell_type": "code",
   "execution_count": 3,
   "metadata": {
    "collapsed": true
   },
   "outputs": [],
   "source": [
    "#simulating the experiment of rolling 64 dices 10,000 times\n",
    "n = 64\n",
    "r = 10000\n",
    "sample = np.random.choice([1,2,3,4,5,6], size = (r,n))"
   ]
  },
  {
   "cell_type": "code",
   "execution_count": 4,
   "metadata": {
    "collapsed": false
   },
   "outputs": [
    {
     "name": "stdout",
     "output_type": "stream",
     "text": [
      "1.707825127659933 0.21347814095749162\n"
     ]
    }
   ],
   "source": [
    "#theoretical results from central limit theorem\n",
    "sigma = (35/12)**0.5\n",
    "se_pop = sigma/(n**0.5)\n",
    "print(sigma,  se_pop)"
   ]
  },
  {
   "cell_type": "raw",
   "metadata": {},
   "source": [
    "import numpy"
   ]
  },
  {
   "cell_type": "code",
   "execution_count": 5,
   "metadata": {
    "collapsed": false
   },
   "outputs": [
    {
     "data": {
      "text/plain": [
       "array([ 0.74857641,  0.49505971,  1.52881225,  1.04438038,  0.72665653,\n",
       "        1.17182134,  1.31417922,  0.29658583,  0.41497446,  1.38982622,\n",
       "        1.11762936,  0.68956725,  1.72722149,  0.76672791,  1.02297181,\n",
       "        1.01456294,  1.34823307,  0.92075315,  1.27351112,  0.32284143,\n",
       "        1.20953338,  0.56321562,  0.54642933,  1.24439877,  1.19049965,\n",
       "        1.23555623,  1.19679293,  0.95040448,  0.86695513,  1.64082027])"
      ]
     },
     "execution_count": 5,
     "metadata": {},
     "output_type": "execute_result"
    }
   ],
   "source": [
    "np.random.normal(1, .5, 30\n",
    "                   )"
   ]
  },
  {
   "cell_type": "code",
   "execution_count": 6,
   "metadata": {
    "collapsed": false
   },
   "outputs": [
    {
     "data": {
      "text/plain": [
       "array([ 0.18266706,  0.48264979,  0.64534027,  0.02450998,  0.43436111])"
      ]
     },
     "execution_count": 6,
     "metadata": {},
     "output_type": "execute_result"
    }
   ],
   "source": [
    "np.random.uniform(0,1, 5)"
   ]
  },
  {
   "cell_type": "code",
   "execution_count": 74,
   "metadata": {
    "collapsed": false
   },
   "outputs": [],
   "source": [
    "def CLT(n,r,b):\n",
    "    grand_array = []\n",
    "    for i in range(0,r):\n",
    "        sample = np.random.uniform(0,1,n)\n",
    "        local_mean = np.mean(sample)\n",
    "        grand_array.append(local_mean)\n",
    "    grand_mean = np.mean(grand_array)\n",
    "    print('Grand Mean = ',grand_mean)\n",
    "    std_means = np.std(grand_array)\n",
    "    print('Grand std = ',std_means)\n",
    "    plt.hist(grand_array, b, normed=1)    \n",
    "    plt.xlabel('Sample mean')\n",
    "    plt.ylabel('frequency')\n",
    "    plt.grid(True)\n",
    "    plt.show()"
   ]
  },
  {
   "cell_type": "code",
   "execution_count": 75,
   "metadata": {
    "collapsed": false,
    "scrolled": true
   },
   "outputs": [
    {
     "name": "stdout",
     "output_type": "stream",
     "text": [
      "Grand Mean =  0.501095782379\n",
      "Grand std =  0.128614103753\n"
     ]
    },
    {
     "data": {
      "image/png": "[encoded data removed]",
      "text/plain": [
       "<matplotlib.figure.Figure at 0x110e93e10>"
      ]
     },
     "metadata": {},
     "output_type": "display_data"
    }
   ],
   "source": [
    "CLT(5,10000,100)"
   ]
  },
  {
   "cell_type": "code",
   "execution_count": 92,
   "metadata": {
    "collapsed": false
   },
   "outputs": [],
   "source": [
    "#added\n",
    "def CLT(n,r,b):\n",
    "    grand_array = []\n",
    "    for i in range(0,r):\n",
    "        sample = np.random.uniform(0,1,n)\n",
    "        local_mean = np.mean(sample)\n",
    "        grand_array.append(local_mean)\n",
    "    grand_mean = np.mean(grand_array)\n",
    "    print('Grand Mean = ',grand_mean)\n",
    "    std_means = np.std(grand_array)\n",
    "    print('Grand std = ',std_means)\n",
    "    plt.hist(grand_array, b, normed=1, histtype='bar', color='blue')    \n",
    "    plt.xlabel('Sample mean')\n",
    "    plt.ylabel('frequency')\n",
    "    plt.grid(True)\n",
    "    plt.show()"
   ]
  },
  {
   "cell_type": "code",
   "execution_count": 93,
   "metadata": {
    "collapsed": false
   },
   "outputs": [
    {
     "name": "stdout",
     "output_type": "stream",
     "text": [
      "Grand Mean =  0.499124797744\n",
      "Grand std =  0.128358861194\n"
     ]
    },
    {
     "data": {
      "image/png": "[encoded data removed]",
      "text/plain": [
       "<matplotlib.figure.Figure at 0x1113ffac8>"
      ]
     },
     "metadata": {},
     "output_type": "display_data"
    },
    {
     "data": {
      "image/png": "[encoded data removed]",
      "text/plain": [
       "<matplotlib.figure.Figure at 0x110d1c6d8>"
      ]
     },
     "metadata": {},
     "output_type": "display_data"
    },
    {
     "data": {
      "image/png": "[encoded data removed]",
      "text/plain": [
       "<matplotlib.figure.Figure at 0x11816b748>"
      ]
     },
     "metadata": {},
     "output_type": "display_data"
    }
   ],
   "source": [
    "CLT(5,10000,100)"
   ]
  },
  {
   "cell_type": "code",
   "execution_count": 9,
   "metadata": {
    "collapsed": false
   },
   "outputs": [
    {
     "data": {
      "text/plain": [
       "0.12909944487358055"
      ]
     },
     "execution_count": 9,
     "metadata": {},
     "output_type": "execute_result"
    }
   ],
   "source": [
    "# Comparision of sample standard deviation of the sample mean with theoretical standard error \n",
    "\n",
    "# Calculating theoretical standard error for n = 5\n",
    "def theoretical_std(n):\n",
    "    import math\n",
    "    return 1.0/math.sqrt(12*n)\n",
    "\n",
    "theoretical_std(5)"
   ]
  },
  {
   "cell_type": "code",
   "execution_count": 10,
   "metadata": {
    "collapsed": true
   },
   "outputs": [],
   "source": [
    "# Comparision of sample standard deviation of the sample mean with theoretical standard error \n",
    "\n",
    "#   n    sample standard deviation of the sample mean    theoretical standard error \n",
    "#   5     0.127647600255                                   0.12909944487358055\n",
    "\n"
   ]
  },
  {
   "cell_type": "code",
   "execution_count": 11,
   "metadata": {
    "collapsed": true
   },
   "outputs": [],
   "source": [
    "# Comparision of Grand mean with theoritical mean\n",
    "\n",
    "#  For n = 5\n",
    "#  Theoritical mean = 0.5\n",
    "#  Grand mean =  0.499863944428\n"
   ]
  },
  {
   "cell_type": "code",
   "execution_count": 76,
   "metadata": {
    "collapsed": false
   },
   "outputs": [
    {
     "name": "stdout",
     "output_type": "stream",
     "text": [
      "Grand Mean =  0.499377379573\n",
      "Grand std =  0.0575298449884\n"
     ]
    },
    {
     "data": {
      "image/png": "[encoded data removed]",
      "text/plain": [
       "<matplotlib.figure.Figure at 0x110c99da0>"
      ]
     },
     "metadata": {},
     "output_type": "display_data"
    }
   ],
   "source": [
    "CLT(25,10000,100)"
   ]
  },
  {
   "cell_type": "code",
   "execution_count": 77,
   "metadata": {
    "collapsed": false
   },
   "outputs": [
    {
     "data": {
      "text/plain": [
       "0.05773502691896257"
      ]
     },
     "execution_count": 77,
     "metadata": {},
     "output_type": "execute_result"
    }
   ],
   "source": [
    "theoretical_std(25)"
   ]
  },
  {
   "cell_type": "code",
   "execution_count": 78,
   "metadata": {
    "collapsed": true
   },
   "outputs": [],
   "source": [
    "# Comparision of sample standard deviation of the sample mean with theoretical standard error \n",
    "\n",
    "#   n    sample standard deviation of the sample mean    theoretical standard error \n",
    "#   25     0.0578070327324                                   0.05773502691896257\n"
   ]
  },
  {
   "cell_type": "code",
   "execution_count": 79,
   "metadata": {
    "collapsed": true
   },
   "outputs": [],
   "source": [
    "# Comparision of Grand mean with theoritical mean\n",
    "\n",
    "#  For n = 25\n",
    "#  Theoritical mean = 0.5\n",
    "#  Grand mean =  0.500211741927\n"
   ]
  },
  {
   "cell_type": "code",
   "execution_count": 80,
   "metadata": {
    "collapsed": false
   },
   "outputs": [
    {
     "name": "stdout",
     "output_type": "stream",
     "text": [
      "Grand Mean =  0.499743917855\n",
      "Grand std =  0.0258127343902\n"
     ]
    },
    {
     "data": {
      "image/png": "[encoded data removed]",
      "text/plain": [
       "<matplotlib.figure.Figure at 0x117f0f6d8>"
      ]
     },
     "metadata": {},
     "output_type": "display_data"
    }
   ],
   "source": [
    "CLT(125,10000,100)"
   ]
  },
  {
   "cell_type": "code",
   "execution_count": 81,
   "metadata": {
    "collapsed": false
   },
   "outputs": [
    {
     "data": {
      "text/plain": [
       "0.025819888974716113"
      ]
     },
     "execution_count": 81,
     "metadata": {},
     "output_type": "execute_result"
    }
   ],
   "source": [
    "theoretical_std(125)"
   ]
  },
  {
   "cell_type": "code",
   "execution_count": 82,
   "metadata": {
    "collapsed": true
   },
   "outputs": [],
   "source": [
    "# Comparision of sample standard deviation of the sample mean with theoretical standard error \n",
    "\n",
    "#   n    sample standard deviation of the sample mean    theoretical standard error \n",
    "#   125     0.0258068457585                                   0.025819888974716113"
   ]
  },
  {
   "cell_type": "code",
   "execution_count": 83,
   "metadata": {
    "collapsed": true
   },
   "outputs": [],
   "source": [
    "# Comparision of Grand mean with theoritical mean\n",
    "\n",
    "#  For n = 125\n",
    "#  Theoritical mean = 0.5\n",
    "#  Grand mean =  0.499784767561"
   ]
  },
  {
   "cell_type": "code",
   "execution_count": 84,
   "metadata": {
    "collapsed": true
   },
   "outputs": [],
   "source": [
    "# Conclusion:\n",
    "# As the sample size increases the sample mean approaches the population mean. Also, the sampling distribution \n",
    "# of sample mean approaches the normal distribution. We see this effect here for n = 25 to n = 125\n"
   ]
  },
  {
   "cell_type": "code",
   "execution_count": null,
   "metadata": {
    "collapsed": true
   },
   "outputs": [],
   "source": []
  }
 ],
 "metadata": {
  "anaconda-cloud": {},
  "kernelspec": {
   "display_name": "Python 3",
   "language": "python",
   "name": "python3"
  },
  "language_info": {
   "codemirror_mode": {
    "name": "ipython",
    "version": 3
   },
   "file_extension": ".py",
   "mimetype": "text/x-python",
   "name": "python",
   "nbconvert_exporter": "python",
   "pygments_lexer": "ipython3",
   "version": "3.6.0"
  }
 },
 "nbformat": 4,
 "nbformat_minor": 1
}
